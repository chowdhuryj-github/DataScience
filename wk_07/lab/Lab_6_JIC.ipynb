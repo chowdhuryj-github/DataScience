{
 "cells": [
  {
   "cell_type": "markdown",
   "metadata": {},
   "source": [
    "# <font color='#d35400'> Lab 6 | Statistical Exploratory Data Analysis </font>\n",
    "Welcome to Lab 6! The goal in lab 6 is to use hypothesis testing to conduct a exploratory data analysis. To achieve this, we consider life expectancy, but this time we work with a new data set of US county level information. The goal will be to work with a response variable and explore which variables might make good predictors for this response.\n",
    "\n",
    "<p align=\"center\">\n",
    "  <img src=\"tennis_dog.jpg\" alt=\"Alt Text\", width=\"300\"/>\n",
    "</p>"
   ]
  },
  {
   "cell_type": "markdown",
   "metadata": {},
   "source": [
    "### <font color='#FF8C00'> About the Dataset </font>\n",
    "We start off the Jupyter Notebook by exploring the dataset. Since it is in a `.json` format, we convert it into a `pandas` data frame, and then perform the necessary statistical calculations, such as using `.info()` and `.describe()`. To achieve this, we make sure we do all the necessary imports that we need."
   ]
  },
  {
   "cell_type": "code",
   "execution_count": null,
   "metadata": {},
   "outputs": [],
   "source": [
    "# importing the pandas library\n",
    "import pandas as pd\n",
    "\n",
    "# converting the .json file into a pandas data frame\n",
    "county_df = pd.read_json(\"counties.json\")\n",
    "\n",
    "# displaying the counties data frame of the first row\n",
    "county_df.head(1)"
   ]
  },
  {
   "cell_type": "code",
   "execution_count": null,
   "metadata": {},
   "outputs": [],
   "source": [
    "# importing the ipython library\n",
    "from IPython.display import display\n",
    "\n",
    "# displaying the descriptive statistics of the data frame\n",
    "display(\"Summary Statistics: \", county_df.info())\n",
    "\n",
    "# displaying the summary of the dataset\n",
    "display(\"Description of Dataset: \", county_df.describe())"
   ]
  },
  {
   "cell_type": "markdown",
   "metadata": {},
   "source": [
    "According to `.info()`, we can see that some of the data types that the columns have are `int64`, `float64` and `object`. According to `.describe()`, we can see the following count, mean, standard deviation and more in the table above this cell."
   ]
  },
  {
   "cell_type": "markdown",
   "metadata": {},
   "source": [
    "### <font color='#FF8C00'> JSON to Excel & CSV </font>\n",
    "We would like to convert the .json file into a excel and .csv file, and then download these files directly into the directory. This will allow us to examine the dataset better, seeing what columns exist as well as other things."
   ]
  },
  {
   "cell_type": "code",
   "execution_count": null,
   "metadata": {},
   "outputs": [],
   "source": [
    "# converting the .json to a .csv file\n",
    "county_df.to_csv(\"counties.csv\", encoding='utf-8', index=False)\n",
    "\n",
    "# converting the .json to a excel file\n",
    "county_df.to_excel(\"counties.xlsx\", index=False)"
   ]
  },
  {
   "cell_type": "markdown",
   "metadata": {},
   "source": [
    "## <font color = '#FF8C00'> Section 1 </font> | Data Preparation\n",
    "In this section, we load the `counties.csv` file into a Pandas data frame using `pd.read_csv()`. We perform basic feature engineering by creating new columns for COVID-19 deaths and confirmed cases per capita, an indicator for above-average life expectancy, the largest industry by employees and the most common educational level in each country. To achieve this, we perform the following steps:\n",
    "- [x] Divide the number of covid deaths in each county in 2022-03-01 by the 2019 population – add a column called covid-deaths total per capita containing this data to the dataframe. \n",
    "- [x] Divide the number of covid confirmed cases in each county in 2022-03-01 by the 2019 population – add a column called covid-confirmed total per capita containing this data to the dataframe.\n",
    "- [x] Create an indicator that measures whether a county has greater-than-average life expectancy. Add a column called above average life-expectancy containing this data to the dataframe.\n",
    "- [x] Record for each county the largest industry by number of employees. You will need to use the 20 variables in the data named industry/.../employees. To do this, you will need to ﬁll missing values in these variables. For simplicity, ﬁll missing values with 0 (you may ﬁnd .ﬁllna useful). Put this information into a single column called biggest industry.\n",
    "- [x] Record for each county the modal educational level. You will need to use the 4 variables in the data named edu/.... Put this information into a single column called county_modal_ed."
   ]
  },
  {
   "cell_type": "markdown",
   "metadata": {},
   "source": [
    "### <font color = '#FF8C00'> COVID Deaths </font>\n",
    "We start this section off by dividing the number of covid deaths in each country in March 1, 2022 by the 2019 population. We then add a column called `covid-deaths_total_per_capita` that contains this data to the dataframe."
   ]
  },
  {
   "cell_type": "code",
   "execution_count": null,
   "metadata": {},
   "outputs": [],
   "source": [
    "# using json_normalize to normalize semi-structured data into a flat table\n",
    "death_df = pd.json_normalize(county_df[\"covid-deaths\"])\n",
    "population_df = pd.json_normalize(county_df[\"population\"])\n",
    "\n",
    "# extracting relevant data from both columns\n",
    "death_df.columns = death_df.columns.map(lambda x: x.split(\".\")[-1])\n",
    "population_df.columns = population_df.columns.map(lambda x: x.split(\".\")[-1])"
   ]
  },
  {
   "cell_type": "code",
   "execution_count": null,
   "metadata": {},
   "outputs": [],
   "source": [
    "# checking length of the 2022-03-01 column\n",
    "death_length = len(death_df['2022-03-01'])\n",
    "print(\"Number of Death Observations: \", death_length)\n",
    "\n",
    "# checking length of the 2019 column\n",
    "year_length = len(population_df['2019'])\n",
    "print(\"Number of 2019 Observations: \", year_length)\n",
    "\n",
    "# converting the columns into a list\n",
    "death_list = death_df['2022-03-01'].tolist()\n",
    "population_list = population_df['2019'].tolist()\n",
    "\n",
    "# dividing covid deaths by the 2019 population\n",
    "death_by_year_list = [death / year for death, year in zip(death_list, population_list)]\n",
    "\n",
    "# adding the list as a column to a data frame\n",
    "county_df['covid-deaths_total_per_capita'] = death_by_year_list"
   ]
  },
  {
   "cell_type": "markdown",
   "metadata": {},
   "source": [
    "### <font color = '#FF8C00'> COVID Confirms </font>\n",
    "Next, we move on to dividing the number of covid confirmed cases in each county in 2022-03-01 by the 2019 population. We add a column called `above_average_life_expectancy` containing this data to the data frame."
   ]
  },
  {
   "cell_type": "code",
   "execution_count": null,
   "metadata": {},
   "outputs": [],
   "source": [
    "# using json_normalize to normalize semi-structured data into a flat table\n",
    "confirm_df = pd.json_normalize(county_df['covid-confirmed'])\n",
    "\n",
    "# converting the data frame column into a list\n",
    "confirm_list = confirm_df['2022-03-01'].tolist()\n",
    "\n",
    "# checking the length of the confirm list\n",
    "print(\"Number of Covid Confirmed Observations: \", len(confirm_list))\n",
    "\n",
    "# dividing covid confirms by the 2019 population\n",
    "confirm_by_year_list = [confirm / year for confirm, year in zip(confirm_list, population_list)]\n",
    "\n",
    "# adding the list as a column to a data frame\n",
    "county_df['covid-confirmed_total_per_capita'] = confirm_by_year_list"
   ]
  },
  {
   "cell_type": "markdown",
   "metadata": {},
   "source": [
    "### <font color = '#FF8C00'> Life Expectancy Indicator </font>\n",
    "Next, we move on creating a indicator, with regards to whether a county has a greater than average life expectancy. We then add a column called `above_average_life-expectancy` to the data frame."
   ]
  },
  {
   "cell_type": "code",
   "execution_count": null,
   "metadata": {},
   "outputs": [],
   "source": [
    "# instatiating the lists to append to\n",
    "statistic_chi_list = []\n",
    "probability_chi_list = []\n",
    "hypothesis_chi_list = []\n",
    "\n",
    "# setting up a for loop to retrieve the necessary values\n",
    "for category in categorical_features:\n",
    "    statistic, probability, statistical_signifigance = chi_squared_test(category, county_df['above_average_life-expectancy'])\n",
    "    statistic_chi_list.append(statistic)\n",
    "    probability_chi_list.append(probability)\n",
    "    hypothesis_chi_list.append(statistical_signifigance)"
   ]
  },
  {
   "cell_type": "code",
   "execution_count": null,
   "metadata": {},
   "outputs": [],
   "source": [
    "# importing the numpy library\n",
    "import numpy as np\n",
    "\n",
    "# calculating the average of the life expectancy feature\n",
    "average_life_expectancy = np.mean(county_df['life-expectancy'])\n",
    "print(\"Average Life Expectancy: \", average_life_expectancy)\n",
    "print(\"Length of Life Expectancy List: \", len(county_df['life-expectancy']))\n",
    "\n",
    "# converting into a list\n",
    "life_expectancy_list = county_df['life-expectancy']\n",
    "\n",
    "# evaluating if a county has a above average life expectancy or not\n",
    "evaluation_list = []\n",
    "for index in range(0, len(life_expectancy_list)):\n",
    "    if(life_expectancy_list[index] > average_life_expectancy):\n",
    "        evaluation_list.append(True)\n",
    "    else:\n",
    "        evaluation_list.append(False)\n",
    "\n",
    "# checking the length of the evaluation list \n",
    "print(\"Length of Evaluation List: \", len(evaluation_list))\n",
    "\n",
    "# appending the evaluation list as a column\n",
    "county_df['above_average_life-expectancy'] = evaluation_list"
   ]
  },
  {
   "cell_type": "markdown",
   "metadata": {},
   "source": [
    "### <font color = '#FF8C00'> Largest Industry </font>\n",
    "Next, we move on recording for each country the largest industry by the number of employees. Once we find the industry, we put this information into a single column called `biggest_industry`."
   ]
  },
  {
   "cell_type": "code",
   "execution_count": null,
   "metadata": {},
   "outputs": [],
   "source": [
    "# using json_normalize to normalize semi-structured data into a flat table\n",
    "industry_df = pd.json_normalize(county_df['industry'])\n",
    "\n",
    "# filling in the missing values in the data frame using just 0\n",
    "industry_df.fillna(0, inplace=True)\n",
    "\n",
    "# dropping all the columns ending with .payroll\n",
    "for column in industry_df.columns:\n",
    "    if column.endswith('.payroll'):\n",
    "        industry_df.drop(column, axis=1, inplace=True)\n",
    "\n",
    "# setting up a list of industries with higheest number of employees\n",
    "high_employment_industry = []\n",
    "\n",
    "# finding the indsutry with the highest number of employees\n",
    "for index in range(0, len(industry_df)):\n",
    "    row = industry_df.iloc[index]\n",
    "    column_name = row.idxmax()\n",
    "    high_employment_industry.append(column_name)\n",
    "\n",
    "# setting up a list of industry names\n",
    "industry_list = []\n",
    "\n",
    "# performing string slicing to get just the industry\n",
    "for industry in high_employment_industry:\n",
    "    dot_position = industry.rfind('.')\n",
    "    industry_name = industry[:dot_position]\n",
    "    industry_list.append(industry_name)\n",
    "\n",
    "# checking the length of the industry list\n",
    "print(\"Length of Insutry Names: \", len(industry_list))\n",
    "\n",
    "# adding the names of the indsutries to the data frame\n",
    "county_df['biggest_industry'] = industry_list"
   ]
  },
  {
   "cell_type": "markdown",
   "metadata": {},
   "source": [
    "### <font color = '#FF8C00'> Education Level </font>\n",
    "Next, we record for each county the modal educational level. We need to use the 4 variables in the data. We then put this information into a single column called `county_modal_ed`.\n"
   ]
  },
  {
   "cell_type": "code",
   "execution_count": null,
   "metadata": {},
   "outputs": [],
   "source": [
    "# using json_normalize to normalize semi-structured data into a flat table\n",
    "education_df = pd.json_normalize(county_df['edu'])\n",
    "\n",
    "# setting up a list of education levels\n",
    "education_level_list = []\n",
    "\n",
    "# finding the modal education level using a for loop\n",
    "for index in range(0, len(education_df)):\n",
    "    row = education_df.iloc[index]\n",
    "    column_name = row.idxmax()\n",
    "    education_level_list.append(column_name)\n",
    "\n",
    "# checking the length of the education levels\n",
    "print(\"Length of Education Levels: \", len(education_level_list))\n",
    "\n",
    "# adding the education levels to the data frame\n",
    "county_df['county_modal_ed'] = education_level_list"
   ]
  },
  {
   "cell_type": "markdown",
   "metadata": {},
   "source": [
    "### <font color = '#FF8C00'> Checking for Presence of Columns </font>\n",
    "Lastly, we would like to check for the presence of the columns we created."
   ]
  },
  {
   "cell_type": "code",
   "execution_count": null,
   "metadata": {},
   "outputs": [],
   "source": [
    "# checking for the presence of the columns we created\n",
    "column_list = ['covid-deaths_total_per_capita', 'covid-confirmed_total_per_capita', 'above_average_life-expectancy', 'biggest_industry', \n",
    "               'county_modal_ed']\n",
    "result = all(column in county_df.columns for column in column_list)\n",
    "\n",
    "# printing out the results\n",
    "if result:\n",
    "    print(\"All Columns Exist!\")\n",
    "else:\n",
    "    print(\"The Columns Don't Exist!\")"
   ]
  },
  {
   "cell_type": "markdown",
   "metadata": {},
   "source": [
    "### <font color='#FF8C00'> Sources Used For Section One </font>\n",
    "- https://stackoverflow.com/questions/34341974/nested-json-to-pandas-dataframe-with-specific-format\n",
    "- https://stackoverflow.com/questions/12604909/pandas-how-to-change-all-the-values-of-a-column\n",
    "- https://stackoverflow.com/questions/78157298/load-convert-json-to-excel-with-pandas-in-python\n",
    "- https://stackoverflow.com/questions/24870306/how-to-check-if-a-column-exists-in-pandas\n",
    "- https://www.reddit.com/r/learnpython/comments/q5e07m/pandas_fillna_replacing_every_value_with_nan/\n",
    "- https://stackoverflow.com/questions/28218698/how-to-iterate-over-columns-of-a-pandas-dataframe\n",
    "- https://stackoverflow.com/questions/13411544/delete-a-column-from-a-pandas-dataframe\n",
    "- https://stackoverflow.com/questions/10202570/find-row-where-values-for-column-is-maximal-in-a-pandas-dataframe\n",
    "- https://www.geeksforgeeks.org/python-find-position-of-a-character-in-given-string/\n",
    "- https://www.geeksforgeeks.org/string-slicing-in-python/"
   ]
  },
  {
   "cell_type": "markdown",
   "metadata": {},
   "source": [
    "### <font color='#FF8C00'> Section One Answers </font>\n",
    "Q1 | When we constructed the above_average_life-expectancy indicator, was it appropriate to use the mean for this purpose?\n",
    "\n",
    "Yes, that would be the case. Whenever we use terms such as \"average\", this often indicates that we're taking the mean of the dataset that we're looking at. When we constructed the above_average_life-expectancy indicator, we wanted to look at the average life expectancy of all counties combined in the United States, and then compare the computed total average against the life expectancy in each county to see if it was below average or above average. As a result, it would be fair game to assume it is appropriate.\n",
    "\n",
    "Q2 | When we constructed the above_average_life-expectancy indicator, how could you have used hypothesis testing to build this variable? If you had, how many categories would it have?\n",
    "\n",
    "With regards to using hypothesis testing, we could have modeled the situation as follows:\n",
    "Null Hypothesis: the life expectancy of the county is equal to the national average \n",
    "Alternative Hypothesis: the life expectancy of the county is below the national average\n",
    "The type of hypothesis testing we could use is one sample t-test, because we're comparing the national mean of life expectancy against the life expectancy of different counties. \n",
    "Using the hypothesis testing we have, this would mean we have two categories of counties. The first category is the counties which have a life expectancy equal to the national average, and the other is the life expectancy of the county below the national average.\n",
    "\n",
    "\n",
    "Q3 | What are we implicitly assuming by filling the missing values with 0 when we create the largest industry variable?\n",
    "\n",
    "To fill missing values with zero means that it will not cause significant bias when it comes to calculating the mean, variance or standard deviation of that certain sample or dataset. A missing value also might implicitly imply that there are zero workers in that certain industry."
   ]
  },
  {
   "cell_type": "markdown",
   "metadata": {},
   "source": [
    "## <font color = '#FF8C00'> Section 2 </font> | Life Expectancy\n",
    "In this section, we will analyze the relationship between life expectancy and various numerical predictors using Pearson's correlation and tested categorical associations with the Kruskal-Wallis test. The results would indicate which variables have statistically significant relationships with life expectancy $\\alpha$ = 0.05, which provides insight into key factors including county-level differences. We achieve this in the following steps:\n",
    "- [x] In this section we are going to explore which variables are predictive of US county level life expectancy. Thus we will be using life-expectancy as our dependent variable, and we focus on other variables as potential predictors\n",
    "- [x] For each numerical potential predictor variable, use scipy.stats.linregress() to estimate the Pearson’s correlation coefficient and the statistical significance (p-value) of the correlation against the life-expectancy variable\n",
    "- [x] We can test for association between categorical and numerical variables using a Kruskal-Wallis test via the scipy.kruskal() function\n",
    "- [x] In a single table, indicate the variable name, test statistic, p-value, and whether there is a statistically significant relationship between that variable and life-expectancy at a threshold of α = 0.05, using all the hypothesis tests conducted in 2.2 and 2.3."
   ]
  },
  {
   "cell_type": "markdown",
   "metadata": {},
   "source": [
    "### <font color = '#FF8C00'> Linear Regression </font>\n",
    "For each numerical predictor, we use `scipy.stats.linregress()` to estimate the Pearson's correlation coefficient and the statistical signfigiance of the correlation against the life-expectancy variable. We then take those results to build a single table that indicates the variable name, test statistic and life-expectancy at a threshold of $/alpha$ = 0.05 using the hypothesis tests conducted."
   ]
  },
  {
   "cell_type": "code",
   "execution_count": null,
   "metadata": {},
   "outputs": [],
   "source": [
    "# using json_normalize to normalize semi-structured data into a flat table\n",
    "noaa_df = pd.json_normalize(county_df['noaa'])\n",
    "deaths_df = pd.json_normalize(county_df['deaths'])\n",
    "bls_df = pd.json_normalize(county_df['bls'])\n",
    "vaccination_df = pd.json_normalize(county_df['covid-vaccination'])\n",
    "cost_of_living_df = pd.json_normalize(county_df['cost-of-living'])\n",
    "health_df = pd.json_normalize(county_df['health'])"
   ]
  },
  {
   "cell_type": "code",
   "execution_count": null,
   "metadata": {},
   "outputs": [],
   "source": [
    "# importing the statistics library from scipy\n",
    "import scipy.stats\n",
    "\n",
    "# building a function that returns the name, test statistic and p-value\n",
    "def linear_regression_function(feature_one, feature_two):\n",
    "\n",
    "    if feature_two.isnull().any():\n",
    "        null_rows = feature_two[feature_two.isnull()].index.tolist()\n",
    "        feature_one = feature_one.drop(null_rows)\n",
    "        feature_two = feature_two.drop(null_rows)\n",
    "\n",
    "    # calculating the linear regression\n",
    "    linear_regression = scipy.stats.linregress(feature_one, feature_two)\n",
    "\n",
    "    # calculating the test statisic, p-value and r-value\n",
    "    t_value = linear_regression.slope / linear_regression.stderr\n",
    "    p_value = linear_regression.pvalue\n",
    "    r_value = linear_regression.rvalue\n",
    "    statistical_signifigance = False\n",
    "\n",
    "    # whether statistically significant or not\n",
    "    if p_value < 0.05:\n",
    "        statistical_signifigance = True\n",
    "    \n",
    "    # return everything\n",
    "    return t_value, p_value, r_value, statistical_signifigance"
   ]
  },
  {
   "cell_type": "code",
   "execution_count": null,
   "metadata": {},
   "outputs": [],
   "source": [
    "# extracting the necessary data we need to pass in to our function\n",
    "dataframe_features = [\n",
    "    county_df['longitude (deg)'],\n",
    "    county_df['latitude (deg)'],\n",
    "    noaa_df['temp'],\n",
    "    noaa_df['altitude'],\n",
    "    county_df['male'],\n",
    "    deaths_df['suicides'],\n",
    "    deaths_df['homicides'],\n",
    "    bls_df['2020.unemployed'],\n",
    "    county_df['avg_income'],\n",
    "    county_df['covid-deaths_total_per_capita'],\n",
    "    county_df['covid-confirmed_total_per_capita'],\n",
    "    vaccination_df['2021-12-01'],\n",
    "    county_df['poverty-rate'],\n",
    "    cost_of_living_df['living_wage'],\n",
    "    cost_of_living_df['food_costs'],\n",
    "    cost_of_living_df['medical_costs'],\n",
    "    cost_of_living_df['housing_costs'],\n",
    "    cost_of_living_df['tax_costs'],\n",
    "    health_df['Average Number of Mentally Unhealthy Days'],\n",
    "    health_df['% Smokers'],\n",
    "    health_df['% Adults with Obesity'],\n",
    "    health_df['% Physically Inactive'],\n",
    "    health_df['% Long Commute - Drives Alone'],\n",
    "]\n",
    "\n",
    "# creating a list of all the variables for the table\n",
    "variable_names = [\n",
    "    'longitude (deg)', \n",
    "    'latitude (deg)', \n",
    "    'temp', \n",
    "    'altitude', \n",
    "    'male', \n",
    "    'suicides', \n",
    "    'homicides',\n",
    "    '2020.unemployed', \n",
    "    'avg_income', \n",
    "    'covid-deaths_total_per_capita', \n",
    "    'covid-confirmed_total_per_capita', \n",
    "    'vaccination.2021-12-01', ''\n",
    "    'poverty-rate', \n",
    "    'living_wage', \n",
    "    'food_costs', \n",
    "    'medical_costs', \n",
    "    'housing_costs',\n",
    "    'tax_costs', \n",
    "    'Average Number of Mentally Unhealthy Days', \n",
    "    '% Smokers',\n",
    "    '% Adults with Obesity',\n",
    "    '% Physically Inactive', \n",
    "    '% Long Commute - Drives Alone',\n",
    "]\n"
   ]
  },
  {
   "cell_type": "code",
   "execution_count": null,
   "metadata": {},
   "outputs": [],
   "source": [
    "# instantiating a number of lists\n",
    "t_values_list = []\n",
    "p_values_list = []\n",
    "r_values_list = []\n",
    "signifigance_list = []\n",
    "\n",
    "# running the function in a for loop and storing the results\n",
    "for feature in dataframe_features:\n",
    "    \n",
    "    # retrieving all the necessary daya\n",
    "    t_value, p_value, r_value, statistical_signifigance = linear_regression_function(\n",
    "        county_df['life-expectancy'], feature)\n",
    "    \n",
    "    # appending to the instantiated lists\n",
    "    t_values_list.append(t_value)\n",
    "    p_values_list.append(p_value)\n",
    "    r_values_list.append(r_value)\n",
    "    signifigance_list.append(statistical_signifigance)"
   ]
  },
  {
   "cell_type": "code",
   "execution_count": null,
   "metadata": {},
   "outputs": [],
   "source": [
    "# creating a dicationary \n",
    "data_numerical = {\n",
    "    'Variable Name': variable_names,\n",
    "    'Test Statistic': t_values_list,\n",
    "    'P-Value': p_values_list,\n",
    "    'r-Value': r_values_list,\n",
    "    \"Statistically Significant\": signifigance_list\n",
    "}\n",
    "\n",
    "# converting dicationary to data frame\n",
    "numerical_df = pd.DataFrame(data_numerical)\n",
    "\n",
    "# displaying the data frame as a table\n",
    "display(numerical_df)"
   ]
  },
  {
   "cell_type": "code",
   "execution_count": null,
   "metadata": {},
   "outputs": [],
   "source": [
    "# importing the seaborn library\n",
    "import seaborn as sns\n",
    "\n",
    "# importing the matplotlib library\n",
    "import matplotlib.pyplot as plt\n",
    "\n",
    "# method for graphing the numerical variables against each other\n",
    "def graph_linear_regression(feature_one, feature_two, ax):\n",
    "\n",
    "    # plotting the scatter plot\n",
    "    sns.scatterplot(x=feature_one, y=feature_two, hue=feature_two, palette=\"viridis\", ax=ax)\n",
    "\n",
    "    # setting up the plot details\n",
    "    plot_title = feature_one.name + \" vs \" + feature_two.name\n",
    "    ax.set_title(plot_title)\n",
    "    ax.set_xlabel(feature_one.name)\n",
    "    ax.set_ylabel(feature_two.name)"
   ]
  },
  {
   "cell_type": "markdown",
   "metadata": {},
   "source": [
    "### <font color = '#FF8C00'> Graphing the Linear Regression </font>\n",
    "Laslty, we use the `seaborn` and the `matplotlib` library to graph out a scatterplot as we're dealing with graphical a numerical variable against a numerical variable."
   ]
  },
  {
   "cell_type": "code",
   "execution_count": null,
   "metadata": {},
   "outputs": [],
   "source": [
    "# setting the number of rows and columns\n",
    "rows = 6\n",
    "columns = 4\n",
    "\n",
    "# creating the figure\n",
    "fig, axes = plt.subplots(rows, columns, figsize=(20, 24)) \n",
    "\n",
    "# flatten the axes array\n",
    "axes = axes.ravel()  \n",
    "\n",
    "# using a for loop to greate the graph\n",
    "for i, feature in enumerate(dataframe_features):\n",
    "    if i < len(axes):  \n",
    "        graph_linear_regression(feature, county_df['life-expectancy'], axes[i])\n",
    "\n",
    "# displaying the plots\n",
    "plt.tight_layout()\n",
    "\n",
    "# saving the plot\n",
    "plt.savefig(r\"C:\\GitHub\\DataScience\\wk_07\\plots\\LinearRegression.png\")\n",
    "\n",
    "plt.show()"
   ]
  },
  {
   "cell_type": "markdown",
   "metadata": {},
   "source": [
    "### <font color = '#FF8C00'> Association Test </font>\n",
    "Lastly, we would like to test for association between categorical and numerical variables using a Kruska-Wallis test. The numerical variable we use here is the `life-expectancy` variable."
   ]
  },
  {
   "cell_type": "code",
   "execution_count": null,
   "metadata": {},
   "outputs": [],
   "source": [
    "# importing the kruskal function\n",
    "from scipy.stats import kruskal\n",
    "\n",
    "# creating a list of categorical features\n",
    "categorical_features = [\n",
    "    county_df['state'],\n",
    "    county_df['county_modal_ed'],\n",
    "    county_df['biggest_industry']\n",
    "]\n",
    "\n",
    "# creating a list of variable names for the table\n",
    "categorical_names = [\n",
    "    'state',\n",
    "    'county_modal_ed',\n",
    "    'biggest_indsutry'\n",
    "]"
   ]
  },
  {
   "cell_type": "code",
   "execution_count": null,
   "metadata": {},
   "outputs": [],
   "source": [
    "# creating a function that performs kruskal-wallis\n",
    "def kruskal_wallis(feature_one, feature_two):\n",
    "\n",
    "    if feature_two.isnull().any():\n",
    "        null_rows = feature_two[feature_two.isnull()].index.tolist()\n",
    "        feature_one = feature_one.drop(null_rows)\n",
    "        feature_two = feature_two.drop(null_rows)\n",
    "\n",
    "    # creating a list\n",
    "    samples_by_group = []\n",
    "\n",
    "    # setting up the for loop\n",
    "    for value in set(feature_one):\n",
    "        mask = feature_one == value\n",
    "        samples_by_group.append(feature_two[mask])\n",
    "    \n",
    "    # getting the statistics and probability\n",
    "    statistic, probability = kruskal(*samples_by_group)\n",
    "\n",
    "    # instatiating the statistical signfigance variable\n",
    "    statistical_signifigance = False\n",
    "\n",
    "    # whether statistically significant or not\n",
    "    if probability < 0.05:\n",
    "        statistical_signifigance = True\n",
    "\n",
    "    # returning the statistics and probability\n",
    "    return statistic, probability, statistical_signifigance"
   ]
  },
  {
   "cell_type": "code",
   "execution_count": null,
   "metadata": {},
   "outputs": [],
   "source": [
    "# instatiating the lists to append to\n",
    "statistic_list = []\n",
    "probability_list = []\n",
    "hypothesis_list = []\n",
    "\n",
    "# setting up a for loop to retrieve the necessary values\n",
    "for category in categorical_features:\n",
    "    statistic, probability, statistical_signifigance = kruskal_wallis(category, county_df['life-expectancy'])\n",
    "    statistic_list.append(statistic)\n",
    "    probability_list.append(probability)\n",
    "    hypothesis_list.append(statistical_signifigance)"
   ]
  },
  {
   "cell_type": "code",
   "execution_count": null,
   "metadata": {},
   "outputs": [],
   "source": [
    "# creating a dicationary \n",
    "data_categorical = {\n",
    "    'Variable Name': categorical_names,\n",
    "    'Test Statistic': statistic_list,\n",
    "    'P-Value': probability_list,\n",
    "    \"Statistically Significant\": hypothesis_list\n",
    "}\n",
    "\n",
    "# converting dicationary to data frame\n",
    "categorical_df = pd.DataFrame(data_categorical)\n",
    "\n",
    "# displaying the data frame as a table\n",
    "display(categorical_df)"
   ]
  },
  {
   "cell_type": "markdown",
   "metadata": {},
   "source": [
    "### <font color = '#FF8C00'> Graphing the Association Test </font>\n",
    "Now, we use the `seaborn` and `matplotlib` library to graph out box plots. The reason we use a box plot is because we're graphing out a categorical variable against a numerical variable."
   ]
  },
  {
   "cell_type": "code",
   "execution_count": null,
   "metadata": {},
   "outputs": [],
   "source": [
    "# method for graphing a numerical variable against a categorical variable\n",
    "def graph_association_test(feature_one, feature_two, ax):\n",
    "\n",
    "    # plotting the scatter plot\n",
    "    sns.boxplot(x=feature_one, y=feature_two, ax=ax)\n",
    "\n",
    "    # setting up the plot details\n",
    "    plot_title = feature_one.name + \" vs \" + feature_two.name\n",
    "    ax.set_title(plot_title)\n",
    "    ax.set_xlabel(feature_one.name)\n",
    "    ax.set_ylabel(feature_two.name)"
   ]
  },
  {
   "cell_type": "code",
   "execution_count": null,
   "metadata": {},
   "outputs": [],
   "source": [
    "# setting the number of rows and columns\n",
    "rows = 1\n",
    "columns = 3\n",
    "\n",
    "# creating the figure\n",
    "fig, axes = plt.subplots(rows, columns, figsize=(20, 6)) \n",
    "\n",
    "# flatten the axes array\n",
    "axes = axes.ravel()  \n",
    "\n",
    "# using a for loop to greate the graph\n",
    "for i, feature in enumerate(categorical_features):\n",
    "    if i < len(axes):  \n",
    "        graph_association_test(county_df['life-expectancy'], feature, axes[i])\n",
    "\n",
    "# displaying the plots\n",
    "plt.tight_layout()\n",
    "\n",
    "# saving the plot\n",
    "plt.savefig(r\"C:\\GitHub\\DataScience\\wk_07\\plots\\AssociationTest.png\")\n",
    "\n",
    "# displaying the plot\n",
    "plt.show()\n"
   ]
  },
  {
   "cell_type": "markdown",
   "metadata": {},
   "source": [
    "### <font color='#FF8C00'> Sources Used For Section Two </font>\n",
    "- https://docs.scipy.org/doc/scipy/reference/generated/scipy.stats.linregress.html\n",
    "- https://www.geeksforgeeks.org/python-convert-two-lists-into-a-dictionary/\n",
    "- https://stackoverflow.com/questions/29530232/how-to-check-if-any-value-is-nan-in-a-pandas-dataframe\n",
    "- https://stackoverflow.com/questions/73803147/find-the-row-numbers-in-a-dataframe-if-one-or-more-than-one-columns-in-a-row-h\n",
    "- https://stackoverflow.com/questions/44548721/remove-row-with-null-value-from-pandas-data-frame\n"
   ]
  },
  {
   "cell_type": "markdown",
   "metadata": {},
   "source": [
    "### <font color='#FF8C00'> Section Two Answers </font>\n",
    "Q4 | Explain what it means to reject the null hypothesis in a Pearson's Correlation Coefficient Hypothesis Test\n",
    "\n",
    "To reject the null hypothesis in a Pearson's Correlation Coefficient Hypothesis Test means that there is evidence to claim that there is a significant linear relationship between the two variables being tested. Furthermore, it also means that there is a statistically significant result.\n",
    " The Null & Alternative hypothesis is as follows:\n",
    "Null Hypothesis: there is no linear relationship between the two variables\n",
    "Alternative Hypothesis: there is a significant linear relationship between the two variables\n",
    "\n",
    "Q5 | Discuss the meaning of Pearsons's Correlation Coefficient Values obtained in your analysis. How does it help in interpreting the relationship between the variables under study?\n",
    "\n",
    "Pearson's Correlation ranges from -1 to 1, where:\n",
    "When r = 1, this means there is a a positive linear relationship, which would imply that as one variable increases, the other variable also increases.\n",
    "When r = -1, this means there is a negative linear relationship, which would imply that as one variable increases, the other variable would decrease.\n",
    "When r = 0, this means there is no linear relationship between the variables. Changes in one variable do not systematically correlate with changes in the other.\n",
    "Using the values of r helps to determine the type of relationship between two variables, and how one changes depending on the other. It also tells us how strongly related the variables are, and if they have a linear relationship.\n",
    "\n",
    "Q6 | For which variables did the obtained correlation coefficient align with your initial expectation? Why or why not?\n",
    "\n",
    "Some of my initial expectations were that life expectancy would have a positive linear relationship between Smokers, Adults with Obesity & Physically Inactivity. The correlation coefficient for those three were -0.737735, -0.482122 & -0.623696. These values make sense, as smoking, obesity and physical inactivity often have negative impacts on health and lead to a decreased life expectancy. Other such instances are drives alone and the average number of mentally unhealthy days.\n",
    "My other initial expectations were that life expectancy would have a strong positive linear relationship with vaccination, however that was not the case. The correlation coefficient for that was 0.144385, as this value indicates that there is a weak linear linear relationship. I had this expectation because having a vaccination would help you live longer and protect you from diseases.\n",
    "\n",
    "Q7 | Reflect on the assumptions of Pearson's Correlation vs Spearman's Correlation. How would you verify these assumptions in your analysis?\n",
    "\n",
    "Assumptions of Pearson's Correlation is that the relationship between the two variables are linear and that both variables should be normally distributed. A linear relationship is when change in one variable should correspond linearly with change in the other variable.\n",
    "Assumptions of Spearman's correlation is that the relationship between the two variables is monotonic. A monotonic relationship means that as one variable increases, the other variable increases or decreases. It doesn't necessarily have to be a linear manner.\n",
    "To verify such assumptions in our analysis using a scatter plot, we can do this in the bullet points below:\n",
    "Pearson's Correlation: if the scatter plot shows a straight-line relationship, this means there is a linear relationship \n",
    "Spearman's Correlation: if the scatter plot shows a relationship where the two variables are increasing or decreasing, even if it's not a straight line\n",
    "\n",
    "Q8 | Explain what it means to reject the Null Hypothesis in a Kruskal-Wallis Hypothesis Test\n",
    "\n",
    "To reject the null hypothesis in a Kruskal-Wallis hypothesis test means that there is statistical evidence that the distributions or medians of groups that being compared are different in some way.\n",
    " It is a indication that  at least one of the groups differs significantly from the others in terms of median values. The null and alternative hypothesis for a Kruskal-Wallis test is as follows:\n",
    "Null Hypothesis: there is no difference between the groups and that the medians of all groups are equal\n",
    "Alternative Hypothesis: there is at least one group that is different from others, which means that the distributions or medians aren't the same\n",
    "\n",
    "Q9 | Explain why the Kruskal-Wallis test was chosen as an appropriate non-parametric alternative for comparing more than two independent groups\n",
    "\n",
    "Kruskal-Wallis is chosen as a hypothesis test because it doesn't require the assumption that the data is normally distributed or that there are equal variances.\n",
    "\n",
    "Q10 | Regarding a p-value, fixing a threshold of 0.05 means that we are setting the risk of rejecting the null hypothesis when we shouldn't at 5%. In this section, you've conducted over 20 hypothesis tests. What may this imply about the likelihood you've made at least one type I error?\n",
    "\n",
    "A type I error is when we reject the null hypothesis when it is true. When the p-value is less than 0.05, we reject the null hypothesis, and if the p-value is greater than 0.05, then we fail to reject to null hypothesis. As a result, a type I error occurs when the p-value is less than 0.05.\n",
    "Given that we've conducted about 26 hypothesis tests, the likelihood of at least one false positive is 1 - (1 - 0.05)^26. A significance level of 0.05 means there is a 5% chance of incorrectly rejecting the null hypothesis. As a result, the more hypothesis tests, the probability of making a type I error increases. "
   ]
  },
  {
   "cell_type": "markdown",
   "metadata": {},
   "source": [
    "## <font color = '#FF8C00'> Section 3 </font> | Classification on Above Average Life Exepctancy\n",
    "In this section, we assess the relationship between various variables and above-average life expectancy at the US county level using the Kruskal-Wallis test for numerical variables and the $\\chi^2$ test for categorical variables. The results will be summarized in a table indicating the test statistic, p-value, and statistical signifigance at the 0.05 signifigance level for each variable. We achieve this by doing the following:\n",
    "- [x] As above, run a Kruskal-Wallis test for each numerical variable versus the above average life-expectancy indicator. \n",
    "- [x] We can test two categorical variables for association using a χ2 (read chi-squared) test of independence. To use the normal χ2 goodness of ﬁt test to check independence, expected frequencies of co-occurrences of the values from the two variables are calculated under the assumption that the values\n",
    "are independent. The χ2 test is then used to determine if the co-occurrence counts of the other data set match the expected independent distribution (null hypothesis). If the counts do not match, then you reject the null hypothesis of independence. The χ2 1Loosely speaking, two variables are independent if they have no relationship. \n",
    "- [x] Run a χ2 test of independence between each categorical variable versus the above average life-expectancy indicator \n",
    "- [x] In a single table, indicate the variable name, test statistic, p-value, and whether there is a statistically significant relationship between that variable and above average life-expectancy at a threshold of α = 0.05."
   ]
  },
  {
   "cell_type": "markdown",
   "metadata": {},
   "source": [
    "### <font color = '#FF8C00'> Kruskal-Wallis on Numerical Variables </font>\n",
    "We start off by running the Kruskal-Wallis test for each numerical variable versus the `above_average_life-expectancy` indicator."
   ]
  },
  {
   "cell_type": "code",
   "execution_count": null,
   "metadata": {},
   "outputs": [],
   "source": [
    "# instatiating the lists to append to\n",
    "statistic_kw_list = []\n",
    "probability_kw_list = []\n",
    "hypothesis_kw_list = []\n",
    "\n",
    "# running the function in a for loop and storing the results\n",
    "for feature in dataframe_features:\n",
    "    \n",
    "    # retrieving all the necessary daya\n",
    "    statistic, probability, statistical_signifigance = kruskal_wallis(\n",
    "        county_df['above_average_life-expectancy'], feature)\n",
    "    \n",
    "    # appending to the instantiated lists\n",
    "    statistic_kw_list.append(statistic)\n",
    "    probability_kw_list.append(probability)\n",
    "    hypothesis_kw_list.append(statistical_signifigance)\n",
    "\n",
    "# creating a dicationary \n",
    "kw_numerical = {\n",
    "    'Variable Name': variable_names,\n",
    "    'Test Statistic': statistic_kw_list,\n",
    "    'P-Value': probability_kw_list,\n",
    "    \"Statistically Significant\": hypothesis_kw_list\n",
    "}\n",
    "\n",
    "# converting dicationary to data frame\n",
    "kw_df = pd.DataFrame(kw_numerical)\n",
    "\n",
    "# displaying the data frame as a table\n",
    "display(kw_df)"
   ]
  },
  {
   "cell_type": "markdown",
   "metadata": {},
   "source": [
    "### <font color = '#FF8C00'> Graphing the Kruskal Wallis </font>\n",
    "Now, we work on graphing the Kruskal Wallis. Since we're graphing a categorical variable against numerical variables, this means we can use boxplots to create the plots."
   ]
  },
  {
   "cell_type": "code",
   "execution_count": null,
   "metadata": {},
   "outputs": [],
   "source": [
    "# method for graphing a numerical variable against a categorical variable\n",
    "def graph_kruskal_wallis(feature_one, feature_two, ax):\n",
    "\n",
    "    # plotting the scatter plot\n",
    "    sns.boxplot(x=feature_one, y=feature_two, ax=ax)\n",
    "\n",
    "    # setting up the plot details\n",
    "    plot_title = feature_one.name + \" vs \" + feature_two.name\n",
    "    ax.set_title(plot_title)\n",
    "    ax.set_xlabel(feature_one.name)\n",
    "    ax.set_ylabel(feature_two.name)"
   ]
  },
  {
   "cell_type": "code",
   "execution_count": null,
   "metadata": {},
   "outputs": [],
   "source": [
    "# importing the progress bar library\n",
    "from tqdm import tqdm\n",
    "\n",
    "# setting the number of rows and columns\n",
    "rows = 6\n",
    "columns = 4\n",
    "\n",
    "# creating the figure\n",
    "fig, axes = plt.subplots(rows, columns, figsize=(20, 24)) \n",
    "\n",
    "# flatten the axes array\n",
    "axes = axes.ravel()  \n",
    "\n",
    "# using a for loop to greate the graph\n",
    "for i, feature in tqdm(enumerate(dataframe_features), total=len(dataframe_features), desc='Plotting Kruskal Wallis'):\n",
    "    if i < len(axes):  \n",
    "        graph_kruskal_wallis(feature, county_df['above_average_life-expectancy'], axes[i])\n",
    "\n",
    "# displaying the plots\n",
    "plt.tight_layout()\n",
    "\n",
    "# saving the plot\n",
    "plt.savefig(r\"C:\\GitHub\\DataScience\\wk_07\\plots\\KruskalWallis.png\")\n",
    "\n",
    "# displaying the plot\n",
    "plt.show()"
   ]
  },
  {
   "cell_type": "markdown",
   "metadata": {},
   "source": [
    "### <font color = '#FF8C00'> The Chi Sqaured Test </font>\n",
    "Here, we can test two categorical variables for association using a $\\chi^2$ test of independence. The \"normal\" $\\chi^2$ goodness-of-fit test tests if one set of categorical counts was generated from the same distribution as a second set of categorical counts. "
   ]
  },
  {
   "cell_type": "code",
   "execution_count": null,
   "metadata": {},
   "outputs": [],
   "source": [
    "# importing the necessary libraries\n",
    "from scipy.stats import chi2_contingency\n",
    "\n",
    "# function for running the chi squared test\n",
    "def chi_squared_test(feature_one, feature_two):\n",
    "    combination_counts = pd.crosstab(feature_one, feature_two)\n",
    "    chi_2, probability, _,_ = chi2_contingency(combination_counts)\n",
    "\n",
    "    # instantiating the statistical signfigiance variable\n",
    "    statistical_signifigance = False\n",
    "\n",
    "    # whether statistically significant or not\n",
    "    if probability < 0.05:\n",
    "        statistical_signifigance = True\n",
    "    \n",
    "    # returning the chi^2 and probability\n",
    "    return chi_2, probability, statistical_signifigance"
   ]
  },
  {
   "cell_type": "code",
   "execution_count": null,
   "metadata": {},
   "outputs": [],
   "source": [
    "# instatiating the lists to append to\n",
    "statistic_chi_list = []\n",
    "probability_chi_list = []\n",
    "hypothesis_chi_list = []\n",
    "\n",
    "# setting up a for loop to retrieve the necessary values\n",
    "for category in categorical_features:\n",
    "    statistic, probability, statistical_signifigance = chi_squared_test(category, county_df['above_average_life-expectancy'])\n",
    "    statistic_chi_list.append(statistic)\n",
    "    probability_chi_list.append(probability)\n",
    "    hypothesis_chi_list.append(statistical_signifigance)"
   ]
  },
  {
   "cell_type": "code",
   "execution_count": null,
   "metadata": {},
   "outputs": [],
   "source": [
    "# creating a dicationary \n",
    "chi_squared = {\n",
    "    'Variable Name': categorical_names,\n",
    "    'Test Statistic': statistic_chi_list,\n",
    "    'P-Value': probability_chi_list,\n",
    "    \"Statistically Significant\": hypothesis_chi_list\n",
    "}\n",
    "\n",
    "# converting dicationary to data frame\n",
    "chi_df = pd.DataFrame(chi_squared)\n",
    "\n",
    "# displaying the data frame as a table\n",
    "display(chi_df)"
   ]
  },
  {
   "cell_type": "markdown",
   "metadata": {},
   "source": [
    "### <font color = '#FF8C00'> Graphing the Chi Squared Test </font>\n",
    "Now, we work on graphing the Chi Squared Test. Since we're graphing a categorical variable against categorical variables, this means we can use heatmaps to create the plots."
   ]
  },
  {
   "cell_type": "code",
   "execution_count": null,
   "metadata": {},
   "outputs": [],
   "source": [
    "# method for graphing a categorical variable against a categorical variable\n",
    "def graph_chi_squared(feature_one, feature_two, ax):\n",
    "\n",
    "    # creating a table\n",
    "    table = pd.crosstab(feature_one, feature_two)\n",
    "\n",
    "    # plotting the scatter plot\n",
    "    sns.heatmap(table, cmap='Blues', ax=ax)\n",
    "\n",
    "    # setting up the plot details\n",
    "    plot_title = feature_one.name + \" vs \" + feature_two.name\n",
    "    ax.set_title(plot_title)\n",
    "    ax.set_xlabel(feature_one.name)\n",
    "    ax.set_ylabel(feature_two.name)"
   ]
  },
  {
   "cell_type": "code",
   "execution_count": null,
   "metadata": {},
   "outputs": [],
   "source": [
    "# setting the number of rows and columns\n",
    "rows = 1\n",
    "columns = 3\n",
    "\n",
    "# creating the figure\n",
    "fig, axes = plt.subplots(rows, columns, figsize=(25, 15))\n",
    "\n",
    "# flattening the axes array\n",
    "axes = axes.ravel()\n",
    "\n",
    "# setting up a for loop to retrieve the necessary values\n",
    "for i, feature in enumerate(categorical_features):\n",
    "    if i < len(axes):  \n",
    "        graph_chi_squared(feature, county_df['above_average_life-expectancy'], axes[i])\n",
    "\n",
    "# displaying the plots\n",
    "plt.tight_layout()\n",
    "\n",
    "# saving the plot\n",
    "plt.savefig(r\"C:\\GitHub\\DataScience\\wk_07\\plots\\ChiSquaredHeatmap.png\")\n",
    "\n",
    "# displaying the plot\n",
    "plt.show()"
   ]
  },
  {
   "cell_type": "markdown",
   "metadata": {},
   "source": [
    "### <font color='#FF8C00'> Sources Used For Section Three </font>\n",
    "- https://docs.scipy.org/doc/scipy/reference/generated/scipy.stats.chi2_contingency.html"
   ]
  },
  {
   "cell_type": "markdown",
   "metadata": {},
   "source": [
    "### <font color='#FF8C00'> Section Three Answers </font>\n",
    "Q11 | What does it mean to reject the null hypothesis in a chi-sqaured test of independence?\n",
    "\n",
    "The chi-squared test of independence is a hypothesis test that compares two categorical values and measures if there is a dependence between them. The null and alternative hypothesis is as follows:\n",
    "Null Hypothesis: there is no association between two categorical variables\n",
    "Alternative Hypothesis: there is association between two categorical variables\n",
    "To reject the null hypothesis in a chi-squared test of independence means to accept the alternative hypothesis, which means there is association between two categorical variables.\n",
    "\n",
    "Q12 | Reflect on the limitations of hypothesis testing methods in general. In what ways do these methods provide insight into data, and what are their potential drawbacks or pitfalls?\n",
    "\n",
    "Some limitations of hypothesis testing is being too dependent on the p-value, as when the p-value is less than 0.05, it simply just means that the result is statistically significant, that's all. Other drawbacks are that such hypothesis tests assume a normal distribution, and if the data isn't normally distributed, it affects the validity of the results. Lastly, causation is not correlation. \n",
    "This means that hypothesis testing doesn't provide evidence for relationships between variables. Even if two variables are related, it doesn't mean that one causes the other.  Hypothesis testing also involves risk of errors, such as Type I and Type II errors. \n",
    "A Type I Error occurs when the null hypothesis is wrongly rejected (false positive)\n",
    "A Type II Error occurs when the null hypothesis is wrongly accepted (false negative)\n",
    "Despite the limitations, hypothesis testing methods provides insights by helping to make decisions with regards to accept or reject a hypothesis. Moreover, it allows us to quantify the strength of the evidence against the null hypothesis.\n",
    "\n",
    "Q13 | You have dealt with two versions of the response variable – life expectancy in years (a numerical variable) and an indicator showing which counties have above average life expectancy (a binary categorical variable). Did the results of your hypothesis tests depend on which of these you used? That is, were there any predictors that had statistically signiﬁcant relationships with one of these two versions of the response but not the other? How would this aﬀect future machine learning?\n",
    "\n",
    "When we look at the results of the hypothesis tests, we can see that despite the difference in terms of a numerical and binary categorical variable, it didn't depend on the type of the data because the results were all True with regards to being Statistically Significant. This might mean that the relationship between the predictors and life expectancy is strong enough that it is evident. A reason this could happen is because that factors such as smoking and obesity have a impact on the life expectancy regardless of whether it is categorical or numerical variable. With regards to machine learning, it depends on the following:\n",
    "If we treat life expectancy like a continuous variable, we would likely use regression models \n",
    "If we treat life expectancy like a binary variable, we would likely use classification models.\n",
    "\n",
    "Q14 | Reflect on any challenges or insights gained during the process of conducting hypothesis tests and interpreting results. What lessons have you learned that could inform future research or data analysis endeavors\n",
    "\n",
    "With regards to challenges and insights gained, I learned more about how hypothesis testing works, and the different ways it can be affected when using a numerical or categorical variable. I learnt a lot about the applications of it. The most valuable lesson I've learned is the importance of data preparation and understanding the assumptions of the hypothesis tests I use. Ensuring that the data is clean, that missing values are handled appropriately, and that the assumptions of the tests are checked will improve the reliability of the results. Lastly, I understand the importance of clearly defining the research question and choosing the appropriate test based on the type of data and the relationship we’re investigating. In future research, I will continue to use these lessons to make informed choices and refine my approach to hypothesis testing, ensuring that the conclusions I draw are valid and meaningful."
   ]
  }
 ],
 "metadata": {
  "kernelspec": {
   "display_name": "Python 3 (ipykernel)",
   "language": "python",
   "name": "python3"
  },
  "language_info": {
   "codemirror_mode": {
    "name": "ipython",
    "version": 3
   },
   "file_extension": ".py",
   "mimetype": "text/x-python",
   "name": "python",
   "nbconvert_exporter": "python",
   "pygments_lexer": "ipython3",
   "version": "3.13.1"
  }
 },
 "nbformat": 4,
 "nbformat_minor": 4
}
