{
 "cells": [
  {
   "cell_type": "markdown",
   "metadata": {},
   "source": [
    "# Lab 2 | Gathering & Cleaning Data\n",
    "Welcome to Lab 2! This lab is about dealing with the Titanic dataset. For background information, the Titanic was a passenger ship that famously sank in 1912.\n",
    "\n",
    "### About the Dataset\n",
    "The dataset contains demographic information about passengers who were on board the Titanic as well as whether they survived or not. We focus on loading the data, building an understanding of the dataset, and cleaning the data for later use."
   ]
  },
  {
   "cell_type": "markdown",
   "metadata": {},
   "source": []
  }
 ],
 "metadata": {
  "kernelspec": {
   "display_name": "dataScienceEnv",
   "language": "python",
   "name": "python3"
  },
  "language_info": {
   "name": "python",
   "version": "3.13.1"
  }
 },
 "nbformat": 4,
 "nbformat_minor": 2
}
