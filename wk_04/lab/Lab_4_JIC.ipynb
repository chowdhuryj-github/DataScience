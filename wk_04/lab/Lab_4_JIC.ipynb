{
 "cells": [
  {
   "cell_type": "markdown",
   "metadata": {},
   "source": [
    "# <font color='#d35400'> Lab 4 | Simulation Experiments </font>\n",
    "Welcome to Lab 4! In this lab, we work with the implications of sampling from a probability distribution. We start off this lab by plotting a single normal distribution. We then sample the distribution and look for any relationships. After writing code, we look at the effects of sampling which relate to the potential for Type I and Type II errors. Lastly, we use bootstrapping to estimate a confidence interval for the median of a dataset.\n",
    "\n",
    "<p align=\"center\">\n",
    "  <img src=\"dog_donut_painting.jpg\" alt=\"Alt Text\", width=\"300\" />\n",
    "</p>"
   ]
  },
  {
   "cell_type": "markdown",
   "metadata": {},
   "source": [
    "### <font color='#FF8C00'> About the Dataset </font>\n",
    "We start off this Jupyter Notebook by first examining the dataset from `dataset.csv`. We read this `.csv` file into a pandas data frame, upon which we then preview the dataset as a data frame by examining the first 5 rows."
   ]
  },
  {
   "cell_type": "code",
   "execution_count": 3,
   "metadata": {},
   "outputs": [
    {
     "data": {
      "text/plain": [
       "'Number of Null Values: '"
      ]
     },
     "metadata": {},
     "output_type": "display_data"
    },
    {
     "data": {
      "text/plain": [
       "variable_1    0\n",
       "variable_2    0\n",
       "variable_3    0\n",
       "dtype: int64"
      ]
     },
     "metadata": {},
     "output_type": "display_data"
    },
    {
     "data": {
      "text/html": [
       "<div>\n",
       "<style scoped>\n",
       "    .dataframe tbody tr th:only-of-type {\n",
       "        vertical-align: middle;\n",
       "    }\n",
       "\n",
       "    .dataframe tbody tr th {\n",
       "        vertical-align: top;\n",
       "    }\n",
       "\n",
       "    .dataframe thead th {\n",
       "        text-align: right;\n",
       "    }\n",
       "</style>\n",
       "<table border=\"1\" class=\"dataframe\">\n",
       "  <thead>\n",
       "    <tr style=\"text-align: right;\">\n",
       "      <th></th>\n",
       "      <th>variable_1</th>\n",
       "      <th>variable_2</th>\n",
       "      <th>variable_3</th>\n",
       "    </tr>\n",
       "  </thead>\n",
       "  <tbody>\n",
       "    <tr>\n",
       "      <th>0</th>\n",
       "      <td>-0.479814</td>\n",
       "      <td>2.400563</td>\n",
       "      <td>0.962635</td>\n",
       "    </tr>\n",
       "    <tr>\n",
       "      <th>1</th>\n",
       "      <td>1.045241</td>\n",
       "      <td>0.698030</td>\n",
       "      <td>0.917124</td>\n",
       "    </tr>\n",
       "    <tr>\n",
       "      <th>2</th>\n",
       "      <td>1.593543</td>\n",
       "      <td>1.497861</td>\n",
       "      <td>0.736001</td>\n",
       "    </tr>\n",
       "    <tr>\n",
       "      <th>3</th>\n",
       "      <td>-0.664951</td>\n",
       "      <td>-0.124943</td>\n",
       "      <td>0.599193</td>\n",
       "    </tr>\n",
       "    <tr>\n",
       "      <th>4</th>\n",
       "      <td>0.119142</td>\n",
       "      <td>1.052656</td>\n",
       "      <td>0.728300</td>\n",
       "    </tr>\n",
       "  </tbody>\n",
       "</table>\n",
       "</div>"
      ],
      "text/plain": [
       "   variable_1  variable_2  variable_3\n",
       "0   -0.479814    2.400563    0.962635\n",
       "1    1.045241    0.698030    0.917124\n",
       "2    1.593543    1.497861    0.736001\n",
       "3   -0.664951   -0.124943    0.599193\n",
       "4    0.119142    1.052656    0.728300"
      ]
     },
     "metadata": {},
     "output_type": "display_data"
    },
    {
     "name": "stdout",
     "output_type": "stream",
     "text": [
      "<class 'pandas.core.frame.DataFrame'>\n",
      "RangeIndex: 500 entries, 0 to 499\n",
      "Data columns (total 3 columns):\n",
      " #   Column      Non-Null Count  Dtype  \n",
      "---  ------      --------------  -----  \n",
      " 0   variable_1  500 non-null    float64\n",
      " 1   variable_2  500 non-null    float64\n",
      " 2   variable_3  500 non-null    float64\n",
      "dtypes: float64(3)\n",
      "memory usage: 11.8 KB\n"
     ]
    },
    {
     "data": {
      "text/plain": [
       "None"
      ]
     },
     "metadata": {},
     "output_type": "display_data"
    },
    {
     "data": {
      "text/html": [
       "<div>\n",
       "<style scoped>\n",
       "    .dataframe tbody tr th:only-of-type {\n",
       "        vertical-align: middle;\n",
       "    }\n",
       "\n",
       "    .dataframe tbody tr th {\n",
       "        vertical-align: top;\n",
       "    }\n",
       "\n",
       "    .dataframe thead th {\n",
       "        text-align: right;\n",
       "    }\n",
       "</style>\n",
       "<table border=\"1\" class=\"dataframe\">\n",
       "  <thead>\n",
       "    <tr style=\"text-align: right;\">\n",
       "      <th></th>\n",
       "      <th>variable_1</th>\n",
       "      <th>variable_2</th>\n",
       "      <th>variable_3</th>\n",
       "    </tr>\n",
       "  </thead>\n",
       "  <tbody>\n",
       "    <tr>\n",
       "      <th>count</th>\n",
       "      <td>500.000000</td>\n",
       "      <td>500.000000</td>\n",
       "      <td>500.000000</td>\n",
       "    </tr>\n",
       "    <tr>\n",
       "      <th>mean</th>\n",
       "      <td>-0.002162</td>\n",
       "      <td>0.822616</td>\n",
       "      <td>0.942165</td>\n",
       "    </tr>\n",
       "    <tr>\n",
       "      <th>std</th>\n",
       "      <td>0.996963</td>\n",
       "      <td>1.006288</td>\n",
       "      <td>1.004571</td>\n",
       "    </tr>\n",
       "    <tr>\n",
       "      <th>min</th>\n",
       "      <td>-2.989982</td>\n",
       "      <td>-2.428388</td>\n",
       "      <td>-1.731287</td>\n",
       "    </tr>\n",
       "    <tr>\n",
       "      <th>25%</th>\n",
       "      <td>-0.666835</td>\n",
       "      <td>0.176737</td>\n",
       "      <td>0.303725</td>\n",
       "    </tr>\n",
       "    <tr>\n",
       "      <th>50%</th>\n",
       "      <td>0.032894</td>\n",
       "      <td>0.797405</td>\n",
       "      <td>0.938862</td>\n",
       "    </tr>\n",
       "    <tr>\n",
       "      <th>75%</th>\n",
       "      <td>0.649753</td>\n",
       "      <td>1.498369</td>\n",
       "      <td>1.551920</td>\n",
       "    </tr>\n",
       "    <tr>\n",
       "      <th>max</th>\n",
       "      <td>3.057066</td>\n",
       "      <td>4.150901</td>\n",
       "      <td>3.623870</td>\n",
       "    </tr>\n",
       "  </tbody>\n",
       "</table>\n",
       "</div>"
      ],
      "text/plain": [
       "       variable_1  variable_2  variable_3\n",
       "count  500.000000  500.000000  500.000000\n",
       "mean    -0.002162    0.822616    0.942165\n",
       "std      0.996963    1.006288    1.004571\n",
       "min     -2.989982   -2.428388   -1.731287\n",
       "25%     -0.666835    0.176737    0.303725\n",
       "50%      0.032894    0.797405    0.938862\n",
       "75%      0.649753    1.498369    1.551920\n",
       "max      3.057066    4.150901    3.623870"
      ]
     },
     "metadata": {},
     "output_type": "display_data"
    },
    {
     "data": {
      "text/plain": [
       "variable_1    0.032894\n",
       "variable_2    0.797405\n",
       "variable_3    0.938862\n",
       "dtype: float64"
      ]
     },
     "metadata": {},
     "output_type": "display_data"
    }
   ],
   "source": [
    "# importing the pandas library\n",
    "import pandas as pd\n",
    "\n",
    "# importing the ipython library\n",
    "from IPython.display import display\n",
    "\n",
    "# reading the .csv file as a data frame\n",
    "dataset_df = pd.read_csv(\"dataset.csv\")\n",
    "\n",
    "# checking for any null values\n",
    "null_values = dataset_df.isnull().sum()\n",
    "display(\"Number of Null Values: \", null_values)\n",
    "\n",
    "# viewing the dataset\n",
    "display(dataset_df.head(5))\n",
    "\n",
    "# obtaining summary statistics\n",
    "display(dataset_df.info())\n",
    "\n",
    "# obtaining the description \n",
    "display(dataset_df.describe())\n",
    "\n",
    "# displaying the median values\n",
    "display(dataset_df.median())"
   ]
  },
  {
   "cell_type": "markdown",
   "metadata": {},
   "source": [
    "As we can see in this dataset, the three features collectively `variable_1`, `variable_2` and `variable_3`, are all of the data type `float64`.  There are 500 observations collectively. When we looked for any missing values, we happened to find none. Here are the summary statistics presented as follows:\n",
    "\n",
    "<div align=\"center\">\n",
    "\n",
    "\n",
    "| x                   | variable_1    | variable_2    | variable_3    |  \n",
    "|:-------------------:|:-------------:|:-------------:|:-------------:|  \n",
    "| mean                | -0.002162     | 0.822616      | 0.942165      |  \n",
    "| median              | 0.032894      | 0.797405      | 0.938862      |  \n",
    "| standard deviation  | 0.996963      | 1.006288      | 1.004571      |  \n",
    "| maximum             | 3.057066      | 4.150901      | 3.623870      |  \n",
    "| minimum             | -2.989982     | -2.428388     | -1.731287     |  \n",
    "| lower quartile      | -0.666835     | 0.176737      | 0.303725      | \n",
    "| upper quartile      | 0.649753      | 1.498369      | 1.551920      |  \n",
    "\n",
    "</div>\n",
    "\n",
    "When we look at the summary statistics above, we noticed that the mean and median for each of the features are very similar. As a result, it would be difficult to determine whether there is positive skew or negative skew. We can use the `scipy` library to confirm this."
   ]
  },
  {
   "cell_type": "code",
   "execution_count": 5,
   "metadata": {},
   "outputs": [
    {
     "data": {
      "text/plain": [
       "variable_1   -0.119045\n",
       "variable_2    0.112529\n",
       "variable_3    0.110104\n",
       "dtype: float64"
      ]
     },
     "metadata": {},
     "output_type": "display_data"
    }
   ],
   "source": [
    "# importing the skew\n",
    "from scipy.stats import skew\n",
    "\n",
    "# finding the skewness of each feature\n",
    "skew_values = dataset_df.skew()\n",
    "display(skew_values)"
   ]
  },
  {
   "cell_type": "markdown",
   "metadata": {},
   "source": [
    "Looking at the skew values, we can confirm that it is unlikely that each of the variables have any skewness in them. For the `variable_1` feature, since the skewness is less than 0, then the tail is on the left side, which means there is left-skew, which is a negative skew. "
   ]
  },
  {
   "cell_type": "markdown",
   "metadata": {},
   "source": [
    "## <font color = '#FF8C00'> Section 1 </font> | Plotting a Normal Distribution\n",
    "In this section, we are dealing with creating and plotting a normal distribution. Here are the following steps we take to achieve this:\n",
    "- [x] Import scipy and instantiate a normal distribution with µ = 0 and σ = 1\n",
    "- [x] Plot the pdf of this distribution (you may find .arange or .linspace useful).\n",
    "- [x] Plot the cdf of this distribution (you may ﬁnd .arange or .linspace useful).\n",
    "- [ ] Using the inverse cdf and a unifrom distribution in the range of [0, 1), sample the distribution 1000 times. Plot the histogram of these 1000 observations (hint: lookup he probability point function)."
   ]
  },
  {
   "cell_type": "markdown",
   "metadata": {},
   "source": [
    "### <font color = '#FF8C00'> Creating & Plotting a Probability Density Function </font>\n",
    "We start off by creating the probability density function. We initialize a normal distribution object using `norm()` and passing in the mean and standard deviation values. Next, we use `.linspace()` to create a array of equally spaced numbers from the `mean - 5*standard_deviation` to `mean + 5*standard_deviation`, which are plotted using 2000 generated values. "
   ]
  },
  {
   "cell_type": "code",
   "execution_count": null,
   "metadata": {},
   "outputs": [],
   "source": [
    "# importing the stats library\n",
    "from scipy.stats import norm\n",
    "\n",
    "# importing the numpy library\n",
    "import numpy as np\n",
    "\n",
    "# initializing the variables\n",
    "mean = 0\n",
    "standard_deviation = 1\n",
    "\n",
    "# instantiating a normal distribution with Mean 1 and SD 1 \n",
    "normal_distribution = norm(loc=mean, scale=standard_deviation)\n",
    "\n",
    "# generating the values required for a distribution (2000 is number of points)\n",
    "x_values = np.linspace(mean - 5*standard_deviation, mean + 5*standard_deviation, 2000);\n",
    "\n",
    "# calulcating the probability density function\n",
    "pdf_values = normal_distribution.pdf(x_values)\n"
   ]
  },
  {
   "cell_type": "markdown",
   "metadata": {},
   "source": [
    "We then move on to plotting the probability density function. Using the `matplotlib` library, we then plot the X values that we have generated against the density values that were generated after applying the `.pdf` function."
   ]
  },
  {
   "cell_type": "code",
   "execution_count": 11,
   "metadata": {},
   "outputs": [
    {
     "data": {
      "image/png": "[encoded data removed]",
      "text/plain": [
       "<Figure size 640x480 with 1 Axes>"
      ]
     },
     "metadata": {},
     "output_type": "display_data"
    }
   ],
   "source": [
    "# importing matplotlib\n",
    "import matplotlib.pyplot as plt\n",
    "\n",
    "# plotting the normal distribution\n",
    "plt.plot(x_values, pdf_values, color=\"red\")\n",
    "\n",
    "# adding the title and labels\n",
    "plt.title(\"PDF of a Normal Distrubtion Curve\")\n",
    "plt.xlabel(\"Values of X\")\n",
    "plt.ylabel(\"Density\")\n",
    "\n",
    "# displaying the plot\n",
    "plt.show()"
   ]
  },
  {
   "cell_type": "markdown",
   "metadata": {},
   "source": [
    "### <font color = '#FF8C00'> Creating & Plotting  Cumulative Distribution Function </font>\n",
    "Next, we move on to creating the cumulative distribution function. Using the normalized distribution object, which has a passed in mean and standard deviation parameters, and the array of equally spaced numbers using `.linspace()`, we then use `.cdf()` to calculate the cumulative distribution function."
   ]
  },
  {
   "cell_type": "code",
   "execution_count": 12,
   "metadata": {},
   "outputs": [],
   "source": [
    "# calculating the cumulative distirbution function\n",
    "cdf_values = normal_distribution.cdf(x_values)"
   ]
  },
  {
   "cell_type": "markdown",
   "metadata": {},
   "source": [
    "We then move to plotting the cumulative distribution function. Using the `matplotlib` library, we then plot the X values that we have generated against the cumulative probabilities that were generated after applying the `.cdf` function. "
   ]
  },
  {
   "cell_type": "code",
   "execution_count": 14,
   "metadata": {},
   "outputs": [
    {
     "data": {
      "image/png": "[encoded data removed]",
      "text/plain": [
       "<Figure size 640x480 with 1 Axes>"
      ]
     },
     "metadata": {},
     "output_type": "display_data"
    }
   ],
   "source": [
    "# importing matplotlib\n",
    "import matplotlib.pyplot as plt\n",
    "\n",
    "# plotting the normal distribution\n",
    "plt.plot(x_values, cdf_values, color=\"red\")\n",
    "\n",
    "# adding the title and labels\n",
    "plt.title(\"CDF of a Normal Distrubtion Curve\")\n",
    "plt.xlabel(\"Values of X\")\n",
    "plt.ylabel(\"Cumulative Probability\")\n",
    "\n",
    "# displaying the plot\n",
    "plt.show()"
   ]
  },
  {
   "cell_type": "markdown",
   "metadata": {},
   "source": [
    "### <font color = '#FF8C00'> The Inverse Cumulative Distribution Function </font>\n",
    "Next, we use the inverse cumulative distirbution function in the range of [0,1) and a sample of 1000 times. We then move on to plot a histogram of 1000 of these observations.  In order to find the inverse cumulative distribution, we use the `probability point function`, which returns the exact point where the probability of everything to the left is equal to the cumulative probability."
   ]
  },
  {
   "cell_type": "code",
   "execution_count": 20,
   "metadata": {},
   "outputs": [],
   "source": [
    "# importing the uniform library from scipy\n",
    "from scipy.stats import uniform\n",
    "\n",
    "# generating random unform values between 0 and 1\n",
    "random_uniform_values = np.random.rand(1000)\n",
    "\n",
    "# calculating the probability point function values using mean 1 and SD 1\n",
    "ppf_values = uniform.ppf(random_uniform_values, loc=0, scale=1)"
   ]
  },
  {
   "cell_type": "markdown",
   "metadata": {},
   "source": [
    "Lastly, we then move on to plotting the probability point function as a histogram. Using the `matplotlib` library, we then plot the probability value on the x-axis and the cumulative probability on the y-axis after applying the `.ppf`."
   ]
  },
  {
   "cell_type": "code",
   "execution_count": 23,
   "metadata": {},
   "outputs": [
    {
     "data": {
      "image/png": "[encoded data removed]",
      "text/plain": [
       "<Figure size 640x480 with 1 Axes>"
      ]
     },
     "metadata": {},
     "output_type": "display_data"
    }
   ],
   "source": [
    "# plotting a histogram\n",
    "plt.hist(ppf_values)\n",
    "\n",
    "# setting up the titles and x and y headings\n",
    "plt.title(\"Histogram of a Probability Point Function\")\n",
    "plt.xlabel(\"Probability\")\n",
    "plt.ylabel(\"Freqeuncy\")\n",
    "\n",
    "# displaying the plot\n",
    "plt.show()"
   ]
  },
  {
   "cell_type": "markdown",
   "metadata": {},
   "source": [
    "### <font color='#FF8C00'> Sources Used For Section One </font>\n",
    "- https://discovery.cs.illinois.edu/learn/Polling-Confidence-Intervals-and-Hypothesis-Testing/Python-Functions-for-Random-Distributions/"
   ]
  },
  {
   "cell_type": "markdown",
   "metadata": {},
   "source": []
  }
 ],
 "metadata": {
  "kernelspec": {
   "display_name": "dataScienceEnv",
   "language": "python",
   "name": "python3"
  },
  "language_info": {
   "codemirror_mode": {
    "name": "ipython",
    "version": 3
   },
   "file_extension": ".py",
   "mimetype": "text/x-python",
   "name": "python",
   "nbconvert_exporter": "python",
   "pygments_lexer": "ipython3",
   "version": "3.13.1"
  }
 },
 "nbformat": 4,
 "nbformat_minor": 2
}
