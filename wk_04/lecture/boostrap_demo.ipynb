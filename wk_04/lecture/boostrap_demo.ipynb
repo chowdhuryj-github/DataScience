{
 "cells": [
  {
   "cell_type": "code",
   "execution_count": 1,
   "metadata": {},
   "outputs": [],
   "source": [
    "import numpy as np"
   ]
  },
  {
   "cell_type": "code",
   "execution_count": 2,
   "metadata": {},
   "outputs": [
    {
     "name": "stdout",
     "output_type": "stream",
     "text": [
      "0.3225806451612903\n"
     ]
    }
   ],
   "source": [
    "# Initialize data\n",
    "data = np.zeros(10)\n",
    "\n",
    "# Define the bag of marbles\n",
    "bag_o_marbles = np.array([1] * 10 + [0] * 21)\n",
    "\n",
    "print(np.mean(bag_o_marbles))"
   ]
  },
  {
   "cell_type": "code",
   "execution_count": 13,
   "metadata": {},
   "outputs": [],
   "source": [
    "# Bootstrap simulation\n",
    "n_sim = 1000\n",
    "fractions = np.zeros(n_sim)\n",
    "\n",
    "for j in range(n_sim):\n",
    "    fractions[j] = np.mean(np.random.choice(bag_o_marbles, 5, replace=True))\n",
    "\n",
    "# Sort the fractions to find confidence interval bounds\n",
    "fractions = np.sort(fractions)\n",
    "\n",
    "# 95% Confidence Interval (approximate 2.5th and 97.5th percentiles)\n",
    "lower_bound = fractions[25]   # Corresponds to the 2.5th percentile\n",
    "upper_bound = fractions[975]  # Corresponds to the 97.5th percentile"
   ]
  },
  {
   "cell_type": "code",
   "execution_count": 14,
   "metadata": {},
   "outputs": [
    {
     "name": "stdout",
     "output_type": "stream",
     "text": [
      "Lower bound of 95% CI: 0.293\n",
      "Upper bound of 95% CI: 0.352\n",
      "Estimated Ratio: 0.32272800000000007\n"
     ]
    }
   ],
   "source": [
    "# Output\n",
    "print(\"Lower bound of 95% CI:\", lower_bound)\n",
    "print(\"Upper bound of 95% CI:\", upper_bound)\n",
    "print(\"Estimated Ratio:\", np.mean(fractions))"
   ]
  }
 ],
 "metadata": {
  "kernelspec": {
   "display_name": "csc2621",
   "language": "python",
   "name": "python3"
  },
  "language_info": {
   "codemirror_mode": {
    "name": "ipython",
    "version": 3
   },
   "file_extension": ".py",
   "mimetype": "text/x-python",
   "name": "python",
   "nbconvert_exporter": "python",
   "pygments_lexer": "ipython3",
   "version": "3.12.4"
  }
 },
 "nbformat": 4,
 "nbformat_minor": 2
}
