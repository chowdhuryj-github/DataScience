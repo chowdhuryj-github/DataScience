{
 "cells": [
  {
   "cell_type": "markdown",
   "metadata": {},
   "source": [
    "# <font color='#d35400'> Lab 3 | Data Visualization </font>\n",
    "Welcome to Lab 3! This lab is about the Titanic dataset. For this lab, we use exploratory data analysis with a focus on using different visualization techniques. \n",
    "\n",
    "<p align=\"center\">\n",
    "  <img src=\"dog_painting.jpg\" alt=\"Alt Text\" />\n",
    "</p>"
   ]
  },
  {
   "cell_type": "markdown",
   "metadata": {},
   "source": [
    "### <font color='#FF8C00'> About the Dataset </font>\n",
    "The dataset contains demographic information about passengers who were on board the Titanic as well as whether they survived or not. We focus on loading the data, building an understanding of the dataset, and cleaning the data for later use."
   ]
  },
  {
   "cell_type": "markdown",
   "metadata": {},
   "source": [
    "## <font color = '#FF8C00'> Section 1 </font> | Reading in the Data\n",
    "In Section 1, we start off with using pandas to read our provided titanic dataset. This dataset is a updated version where missing values in the Age column are filled using mean, median, mode and KNN.\n"
   ]
  },
  {
   "cell_type": "code",
   "execution_count": 1,
   "metadata": {},
   "outputs": [
    {
     "data": {
      "text/html": [
       "<div>\n",
       "<style scoped>\n",
       "    .dataframe tbody tr th:only-of-type {\n",
       "        vertical-align: middle;\n",
       "    }\n",
       "\n",
       "    .dataframe tbody tr th {\n",
       "        vertical-align: top;\n",
       "    }\n",
       "\n",
       "    .dataframe thead th {\n",
       "        text-align: right;\n",
       "    }\n",
       "</style>\n",
       "<table border=\"1\" class=\"dataframe\">\n",
       "  <thead>\n",
       "    <tr style=\"text-align: right;\">\n",
       "      <th></th>\n",
       "      <th>Unnamed: 0</th>\n",
       "      <th>PassengerId</th>\n",
       "      <th>Survived</th>\n",
       "      <th>Pclass</th>\n",
       "      <th>Name</th>\n",
       "      <th>Sex</th>\n",
       "      <th>Age</th>\n",
       "      <th>SibSp</th>\n",
       "      <th>Parch</th>\n",
       "      <th>Ticket</th>\n",
       "      <th>Fare</th>\n",
       "      <th>Cabin</th>\n",
       "      <th>Embarked</th>\n",
       "      <th>Age_fill_mean</th>\n",
       "      <th>Age_fill_median</th>\n",
       "      <th>Age_fill_mode</th>\n",
       "      <th>Age_fill_KNN</th>\n",
       "    </tr>\n",
       "  </thead>\n",
       "  <tbody>\n",
       "    <tr>\n",
       "      <th>0</th>\n",
       "      <td>0</td>\n",
       "      <td>1</td>\n",
       "      <td>0</td>\n",
       "      <td>3</td>\n",
       "      <td>Braund, Mr. Owen Harris</td>\n",
       "      <td>male</td>\n",
       "      <td>22.0</td>\n",
       "      <td>1</td>\n",
       "      <td>0</td>\n",
       "      <td>A/5 21171</td>\n",
       "      <td>7.2500</td>\n",
       "      <td>NaN</td>\n",
       "      <td>S</td>\n",
       "      <td>22.0</td>\n",
       "      <td>22.0</td>\n",
       "      <td>22.0</td>\n",
       "      <td>22.0</td>\n",
       "    </tr>\n",
       "    <tr>\n",
       "      <th>1</th>\n",
       "      <td>1</td>\n",
       "      <td>2</td>\n",
       "      <td>1</td>\n",
       "      <td>1</td>\n",
       "      <td>Cumings, Mrs. John Bradley (Florence Briggs Th...</td>\n",
       "      <td>female</td>\n",
       "      <td>38.0</td>\n",
       "      <td>1</td>\n",
       "      <td>0</td>\n",
       "      <td>PC 17599</td>\n",
       "      <td>71.2833</td>\n",
       "      <td>C85</td>\n",
       "      <td>C</td>\n",
       "      <td>38.0</td>\n",
       "      <td>38.0</td>\n",
       "      <td>38.0</td>\n",
       "      <td>38.0</td>\n",
       "    </tr>\n",
       "    <tr>\n",
       "      <th>2</th>\n",
       "      <td>2</td>\n",
       "      <td>3</td>\n",
       "      <td>1</td>\n",
       "      <td>3</td>\n",
       "      <td>Heikkinen, Miss. Laina</td>\n",
       "      <td>female</td>\n",
       "      <td>26.0</td>\n",
       "      <td>0</td>\n",
       "      <td>0</td>\n",
       "      <td>STON/O2. 3101282</td>\n",
       "      <td>7.9250</td>\n",
       "      <td>NaN</td>\n",
       "      <td>S</td>\n",
       "      <td>26.0</td>\n",
       "      <td>26.0</td>\n",
       "      <td>26.0</td>\n",
       "      <td>26.0</td>\n",
       "    </tr>\n",
       "  </tbody>\n",
       "</table>\n",
       "</div>"
      ],
      "text/plain": [
       "   Unnamed: 0  PassengerId  Survived  Pclass  \\\n",
       "0           0            1         0       3   \n",
       "1           1            2         1       1   \n",
       "2           2            3         1       3   \n",
       "\n",
       "                                                Name     Sex   Age  SibSp  \\\n",
       "0                            Braund, Mr. Owen Harris    male  22.0      1   \n",
       "1  Cumings, Mrs. John Bradley (Florence Briggs Th...  female  38.0      1   \n",
       "2                             Heikkinen, Miss. Laina  female  26.0      0   \n",
       "\n",
       "   Parch            Ticket     Fare Cabin Embarked  Age_fill_mean  \\\n",
       "0      0         A/5 21171   7.2500   NaN        S           22.0   \n",
       "1      0          PC 17599  71.2833   C85        C           38.0   \n",
       "2      0  STON/O2. 3101282   7.9250   NaN        S           26.0   \n",
       "\n",
       "   Age_fill_median  Age_fill_mode  Age_fill_KNN  \n",
       "0             22.0           22.0          22.0  \n",
       "1             38.0           38.0          38.0  \n",
       "2             26.0           26.0          26.0  "
      ]
     },
     "execution_count": 1,
     "metadata": {},
     "output_type": "execute_result"
    }
   ],
   "source": [
    "# importing the pandas library\n",
    "import pandas as pd\n",
    "\n",
    "# using the pandas library to read a csv file\n",
    "titanic_df = pd.read_csv(\"titanic_filled.csv\")\n",
    "\n",
    "# viewing the titanic data frame using .head()\n",
    "titanic_df.head(3)"
   ]
  },
  {
   "cell_type": "markdown",
   "metadata": {},
   "source": [
    "Next, we need to type the data appropriately. We do this converting the following variables, `Pclass`, `Sex` and `Embarked` using the `.astype()` method into a categorical variable."
   ]
  },
  {
   "cell_type": "code",
   "execution_count": 2,
   "metadata": {},
   "outputs": [],
   "source": [
    "# converting the Pclass variable into a categorical variable\n",
    "titanic_df[\"Pclass\"] = titanic_df[\"Pclass\"].astype('category')\n",
    "\n",
    "# converting the Sex variable into a categorical variable\n",
    "titanic_df[\"Sex\"] = titanic_df[\"Sex\"].astype('category')\n",
    "\n",
    "# converting the Embarked variable into a categorical variable\n",
    "titanic_df[\"Embarked\"] = titanic_df[\"Embarked\"].astype('category')"
   ]
  },
  {
   "cell_type": "markdown",
   "metadata": {},
   "source": [
    "## <font color = '#FF8C00'> Section 2 </font> | Classification\n",
    "In this section, we work with the Titanic datset and the `Survived` feature as the target for a supervised machine learning problem. We work on creating a heatmap and determine appropriate visualizations to compare other variables such as `Fare`, `Sex`, `SibSp`, `Parch` and `Embarked` with `Survived`. Lastly, we create visualizations to compare `Age` and its imputed versions with `Survived`.\n"
   ]
  },
  {
   "cell_type": "markdown",
   "metadata": {},
   "source": [
    "### <font color = '#FF8C00'> Creating a HeatMap </font>\n",
    "We start off by retireiving all the data of the passengers using their respective `Pclass` and also the `Survived` data. We divide the data into two sections of passengers who have survived (1) and passengers who didn't (0) and then divided those two categories into three sub-categories of `Pclass` 1, 2 and 3.\n"
   ]
  },
  {
   "cell_type": "code",
   "execution_count": 17,
   "metadata": {},
   "outputs": [
    {
     "name": "stdout",
     "output_type": "stream",
     "text": [
      "Passenger Numbers:  891\n"
     ]
    }
   ],
   "source": [
    "# finding the total number of passengers that have a Pclass\n",
    "passenger_list = titanic_df[\"Pclass\"].values.tolist()\n",
    "\n",
    "# printing out the total number of passengers\n",
    "print(\"Passenger Numbers: \", len(passenger_list))"
   ]
  },
  {
   "cell_type": "code",
   "execution_count": null,
   "metadata": {},
   "outputs": [
    {
     "name": "stdout",
     "output_type": "stream",
     "text": [
      "All Classes:  [1, 3, 1, 3, 2, 3, 1, 2, 2, 3, 2, 3, 1, 3, 3, 1, 3, 3, 3, 2, 3, 3, 1, 2, 1, 2, 2, 1, 3, 2, 3, 3, 2, 3, 3, 3, 2, 3, 1, 1, 2, 3, 3, 3, 2, 3, 3, 3, 2, 1, 3, 3, 3, 1, 3, 2, 3, 1, 3, 2, 3, 3, 1, 2, 3, 2, 1, 1, 3, 3, 3, 3, 1, 2, 1, 3, 1, 3, 1, 2, 1, 3, 2, 3, 2, 1, 3, 1, 1, 1, 2, 3, 3, 1, 1, 3, 2, 3, 1, 3, 3, 3, 2, 3, 1, 1, 1, 1, 3, 3, 2, 1, 1, 1, 1, 1, 1, 3, 2, 1, 1, 2, 2, 1, 2, 3, 1, 3, 1, 1, 3, 2, 1, 2, 2, 3, 3, 1, 3, 3, 1, 3, 3, 1, 1, 1, 3, 1, 3, 1, 2, 2, 1, 3, 1, 3, 2, 3, 2, 1, 3, 2, 2, 2, 2, 3, 1, 3, 2, 1, 2, 2, 2, 3, 1, 2, 1, 3, 1, 1, 3, 1, 2, 1, 3, 2, 2, 3, 3, 1, 1, 3, 1, 1, 2, 1, 3, 3, 1, 1, 2, 2, 1, 1, 2, 2, 3, 2, 1, 1, 1, 2, 2, 2, 2, 1, 3, 3, 1, 1, 3, 3, 2, 1, 1, 3, 2, 1, 3, 2, 1, 1, 1, 1, 2, 1, 2, 1, 1, 2, 1, 3, 2, 2, 1, 3, 1, 1, 1, 2, 1, 3, 3, 1, 1, 3, 2, 3, 1, 3, 1, 2, 2, 3, 1, 1, 1, 1, 3, 3, 3, 1, 1, 2, 1, 1, 3, 1, 1, 1, 2, 2, 1, 2, 3, 1, 1, 1, 1, 3, 2, 2, 3, 2, 2, 1, 3, 1, 1, 2, 3, 1, 3, 1, 3, 3, 1, 3, 2, 1, 3, 3, 1, 1, 3, 3, 2, 3, 1, 3, 2, 1, 3, 1, 1, 1, 1, 3, 1, 1, 3, 1, 2, 2, 3, 1, 2, 3, 1, 2, 1, 1]\n",
      "Total Number of Classes:  342\n",
      "Class One: 136\n",
      "Class Two: 87\n",
      "Class Three: 119\n",
      "The totals of Class One, Two and Three are all equal to Overall Number\n"
     ]
    }
   ],
   "source": [
    "\n",
    "# retrieving all the Pclass values that survived into a list from the data frame\n",
    "class_list_survived = titanic_df[titanic_df['Survived'] == 1]['Pclass'].values.tolist()\n",
    "print(\"All Classes: \", class_list_survived)\n",
    "\n",
    "# total number of classes\n",
    "print(\"Total Number of Classes: \", len(class_list_survived))\n",
    "\n",
    "# setting up the class counter\n",
    "class_one_survived = 0\n",
    "class_two_survived = 0\n",
    "class_three_survived = 0\n",
    "\n",
    "# calculating the number of occurrences each class\n",
    "for n in class_list_survived:\n",
    "    if n == 1:\n",
    "        class_one_survived += 1\n",
    "    if n == 2:\n",
    "        class_two_survived += 1\n",
    "    if n == 3:\n",
    "        class_three_survived += 1\n",
    "\n",
    "# printing out the occurrences of each class\n",
    "print(\"Class One:\", class_one_survived)\n",
    "print(\"Class Two:\", class_two_survived)\n",
    "print(\"Class Three:\", class_three_survived)\n",
    "\n",
    "# doing a check on the numbers\n",
    "if(class_one_survived + class_two_survived + class_three_survived == len(class_list_survived)):\n",
    "    print(\"The totals of Class One, Two and Three are all equal to Overall Number\")\n"
   ]
  },
  {
   "cell_type": "code",
   "execution_count": null,
   "metadata": {},
   "outputs": [
    {
     "name": "stdout",
     "output_type": "stream",
     "text": [
      "All Classes:  [3, 3, 3, 1, 3, 3, 3, 3, 3, 3, 2, 3, 3, 1, 3, 1, 2, 1, 1, 3, 3, 3, 2, 3, 3, 3, 3, 3, 3, 3, 1, 3, 3, 3, 1, 3, 1, 3, 3, 2, 3, 2, 3, 3, 3, 3, 3, 1, 3, 3, 3, 3, 3, 1, 3, 3, 3, 1, 2, 3, 3, 1, 3, 3, 3, 3, 1, 3, 3, 3, 3, 3, 3, 2, 1, 3, 2, 3, 2, 1, 3, 3, 3, 3, 3, 2, 2, 1, 3, 1, 3, 3, 2, 2, 3, 2, 2, 2, 3, 3, 3, 1, 3, 3, 3, 3, 3, 3, 3, 3, 1, 3, 1, 3, 3, 1, 3, 3, 1, 2, 3, 3, 2, 3, 1, 3, 3, 2, 3, 3, 2, 3, 3, 3, 3, 3, 3, 3, 3, 2, 3, 2, 2, 2, 3, 3, 3, 3, 2, 3, 3, 2, 2, 3, 2, 2, 2, 3, 2, 3, 3, 1, 3, 2, 3, 3, 1, 3, 3, 3, 1, 1, 3, 2, 3, 1, 1, 3, 2, 3, 3, 3, 3, 1, 3, 3, 2, 3, 3, 1, 3, 1, 3, 3, 2, 2, 3, 2, 2, 3, 3, 3, 3, 1, 1, 3, 3, 1, 1, 2, 2, 2, 3, 3, 1, 3, 3, 3, 3, 2, 3, 2, 3, 3, 3, 3, 3, 3, 1, 3, 1, 3, 3, 3, 3, 2, 3, 3, 3, 3, 3, 2, 2, 3, 3, 3, 3, 2, 3, 3, 3, 3, 3, 2, 3, 2, 3, 3, 3, 3, 3, 3, 3, 3, 3, 1, 3, 1, 2, 3, 3, 2, 3, 1, 3, 1, 3, 3, 1, 2, 3, 3, 2, 1, 3, 3, 3, 3, 1, 2, 3, 3, 3, 2, 3, 3, 1, 3, 3, 3, 1, 1, 3, 3, 3, 1, 3, 3, 3, 3, 3, 1, 3, 3, 3, 1, 3, 3, 3, 3, 3, 3, 1, 3, 2, 3, 3, 3, 1, 3, 3, 3, 1, 1, 3, 2, 3, 1, 1, 3, 3, 2, 3, 3, 3, 3, 3, 3, 3, 3, 3, 2, 1, 3, 2, 3, 3, 3, 3, 3, 2, 3, 3, 3, 3, 1, 3, 3, 3, 3, 3, 3, 3, 3, 3, 2, 3, 3, 3, 1, 2, 3, 3, 3, 1, 3, 3, 2, 3, 3, 3, 3, 3, 3, 3, 3, 3, 2, 3, 3, 2, 1, 3, 1, 3, 2, 2, 3, 3, 1, 2, 2, 3, 3, 3, 3, 3, 3, 2, 2, 3, 3, 3, 3, 1, 2, 3, 1, 3, 3, 3, 3, 2, 1, 3, 2, 3, 3, 3, 3, 2, 2, 3, 2, 3, 3, 2, 2, 2, 3, 3, 3, 3, 1, 3, 1, 3, 1, 3, 3, 3, 3, 2, 3, 3, 3, 3, 1, 3, 3, 3, 3, 3, 2, 3, 3, 3, 3, 1, 3, 3, 3, 3, 1, 3, 2, 3, 1, 3, 2, 3, 3, 2, 3, 1, 3, 2, 3, 3, 2, 3, 3, 1, 3, 2, 3, 3, 1, 3, 3, 3, 3, 3, 3, 3, 3, 3, 2, 3, 3, 3, 3, 3, 2, 3, 3, 3, 2, 3, 3, 2, 3, 2, 1, 3, 3, 1, 3, 3, 3, 3, 3, 3, 2, 3, 3, 2, 3, 3]\n",
      "Total Number of Classes:  549\n",
      "Class One: 80\n",
      "Class Two: 97\n",
      "Class Three: 372\n",
      "The totals of Class One, Two and Three are all equal to Overall Number\n"
     ]
    }
   ],
   "source": [
    "# retrieving all the Pclass values that died into a list from the data frame\n",
    "class_list_died = titanic_df[titanic_df['Survived'] == 0]['Pclass'].values.tolist()\n",
    "print(\"All Classes: \", class_list_died)\n",
    "\n",
    "# total number of classes\n",
    "print(\"Total Number of Classes: \", len(class_list_died))\n",
    "\n",
    "# setting up the class counter\n",
    "class_one_died = 0\n",
    "class_two_died = 0\n",
    "class_three_died = 0\n",
    "\n",
    "# calculating the number of occurrences each class\n",
    "for n in class_list_died:\n",
    "    if n == 1:\n",
    "        class_one_died += 1\n",
    "    if n == 2:\n",
    "        class_two_died += 1\n",
    "    if n == 3:\n",
    "        class_three_died += 1\n",
    "\n",
    "# printing out the occurrences of each class\n",
    "print(\"Class One:\", class_one_died)\n",
    "print(\"Class Two:\", class_two_died)\n",
    "print(\"Class Three:\", class_three_died)\n",
    "\n",
    "# doing a check on the numbers\n",
    "if(class_one_died + class_two_died + class_three_died == len(class_list_died)):\n",
    "    print(\"The totals of Class One, Two and Three are all equal to Overall Number\")\n",
    "\n"
   ]
  },
  {
   "cell_type": "code",
   "execution_count": 22,
   "metadata": {},
   "outputs": [
    {
     "name": "stdout",
     "output_type": "stream",
     "text": [
      "The Survived and Died Numbers are equal to the numbers of Passengers\n"
     ]
    }
   ],
   "source": [
    "# doing a check to see if the numbers add up\n",
    "if(len(class_list_survived) + len(class_list_died) == len(passenger_list)):\n",
    "    print(\"The Survived and Died Numbers are equal to the numbers of Passengers\")"
   ]
  },
  {
   "cell_type": "markdown",
   "metadata": {},
   "source": [
    "Cool! Now that we've managed to get the numbers on the numbers of passengers with respect to the `Pclass` and `Survived` variables, we can now start calculating our ratios. After we find our ratios, we then create a pivot table using `.pivot_table()`"
   ]
  },
  {
   "cell_type": "code",
   "execution_count": 29,
   "metadata": {},
   "outputs": [
    {
     "name": "stdout",
     "output_type": "stream",
     "text": [
      "Class One Survived:  0.39766081871345027 \n",
      " Class Two Survived:  0.2543859649122807 \n",
      " Class three Survived:  0.347953216374269 \n",
      "\n",
      "The  Survived Ratios add up to 1! \n",
      "\n",
      "Class One Dead:  0.14571948998178508 \n",
      " Class Two Dead:  0.1766848816029144 \n",
      " Class three Dead:  0.6775956284153005 \n",
      "\n",
      "The Dead Ratios add up to 1!\n"
     ]
    }
   ],
   "source": [
    "# calculating the ratios of the survivors with respect to the Pclass\n",
    "total_survivors = class_one_survived + class_two_survived + class_three_survived\n",
    "class_one_ratio_survived = class_one_survived / total_survivors\n",
    "class_two_ratio_survived = class_two_survived / total_survivors\n",
    "class_three_ratio_survived = class_three_survived / total_survivors\n",
    "\n",
    "# printing out the results\n",
    "print(\"Class One Survived: \", class_one_ratio_survived, \"\\n\", \"Class Two Survived: \", class_two_ratio_survived, \"\\n\",\n",
    "      \"Class three Survived: \", class_three_ratio_survived, \"\\n\")\n",
    "\n",
    "# performing a probability check\n",
    "if(class_one_ratio_survived + class_two_ratio_survived + class_three_ratio_survived == 1):\n",
    "    print(\"The  Survived Ratios add up to 1! \\n\")\n",
    "\n",
    "\n",
    "# calculating the ratios of the dead with respect to the Pclass\n",
    "total_dead = class_one_died + class_two_died + class_three_died\n",
    "class_one_ratio_dead = class_one_died / total_dead\n",
    "class_two_ratio_dead = class_two_died / total_dead\n",
    "class_three_ratio_dead = class_three_died / total_dead\n",
    "\n",
    "# printing out the results\n",
    "print(\"Class One Dead: \", class_one_ratio_dead, \"\\n\", \"Class Two Dead: \", class_two_ratio_dead, \"\\n\",\n",
    "      \"Class three Dead: \", class_three_ratio_dead, \"\\n\")\n",
    "\n",
    "# performing a probability check\n",
    "if(class_one_ratio_dead + class_two_ratio_dead + class_three_ratio_dead == 1):\n",
    "    print(\"The Dead Ratios add up to 1!\")\n"
   ]
  },
  {
   "cell_type": "code",
   "execution_count": 33,
   "metadata": {},
   "outputs": [
    {
     "name": "stdout",
     "output_type": "stream",
     "text": [
      "Survived         1         2         3\n",
      "0         0.145719  0.176685  0.677596\n",
      "1         0.397661  0.254386  0.347953\n"
     ]
    }
   ],
   "source": [
    "# creating a dictionary for the heat map table\n",
    "heatmap_data = {\n",
    "    'Survived' : [1, 2, 3],\n",
    "    '0': [class_one_ratio_dead, class_two_ratio_dead, class_three_ratio_dead],\n",
    "    '1': [class_one_ratio_survived, class_two_ratio_survived, class_three_ratio_survived]\n",
    "\n",
    "}\n",
    "\n",
    "# creating a data frame\n",
    "heatmap_df = pd.DataFrame(heatmap_data)\n",
    "\n",
    "# creating a pivot table\n",
    "heatmap_pivot = heatmap_df.set_index('Survived').T\n",
    "\n",
    "# printing out the pivot table\n",
    "print(heatmap_pivot)"
   ]
  },
  {
   "cell_type": "markdown",
   "metadata": {},
   "source": [
    "Great! Now that we've created the pivot table, we now easily convert this into a heatmap using the Seaborn library. To achieve this, we use `.heatmap()` from Seaborn with the pivot table as a parameter."
   ]
  },
  {
   "cell_type": "code",
   "execution_count": 35,
   "metadata": {},
   "outputs": [
    {
     "data": {
      "image/png": "[encoded data removed]",
      "text/plain": [
       "<Figure size 640x480 with 2 Axes>"
      ]
     },
     "metadata": {},
     "output_type": "display_data"
    }
   ],
   "source": [
    "# importing the Seaborn library\n",
    "import seaborn as sns\n",
    "\n",
    "# importing the matplotlib library\n",
    "import matplotlib.pyplot as plt\n",
    "\n",
    "# creating the heatmap\n",
    "sns.heatmap(heatmap_pivot, cmap=\"YlGnBu\", annot=True, fmt=\"0.0f\")\n",
    "\n",
    "# including plotting details\n",
    "plt.title(\"Pclass & Survived Heat Map\")\n",
    "plt.xlabel(\"Pclass\")\n",
    "plt.ylabel(\"Survived\")\n",
    "\n",
    "# displaying the heatmap\n",
    "plt.show()"
   ]
  },
  {
   "cell_type": "markdown",
   "metadata": {},
   "source": [
    "### <font color = '#FF8C00'> Data Visualizations </font>\n",
    "Next, we move on performing data visualizations. We compare the following variables, `Fare`, `Sex`, `SibSp`, `Parch` & `Embarked` against the `Survived` variable. \n",
    "\n",
    "Here are the following plotting types that will be used:\n",
    "- For plotting `Fare` vs `Survived`, we can use box plot\n",
    "- For plotting `Sex` vs `Survived`, we can use a bar chart\n",
    "- For plotting `SibSp` vs `Survived`, we can use a box plot\n",
    "- For plotting `Parch` vs `Survived`, we can use a box plot\n",
    "- For plotting `Embarked` vs `Survived`, we can use a heatmap\n",
    "\n",
    "### <font color = '#FF8C00'> `Fare` vs `Survived` </font>\n",
    "As we know, `Fare` is a ratio numerical data type and `Survived` is a nominal binary categorical data type. When we plot a categorical vs numerical data type plot, we can use box plots for this representation."
   ]
  },
  {
   "cell_type": "code",
   "execution_count": 40,
   "metadata": {},
   "outputs": [
    {
     "data": {
      "image/png": "[encoded data removed]",
      "text/plain": [
       "<Figure size 1000x700 with 1 Axes>"
      ]
     },
     "metadata": {},
     "output_type": "display_data"
    }
   ],
   "source": [
    "# collecting values of fare vs survived\n",
    "fare_survived = titanic_df[titanic_df['Survived'] == 1]['Fare'].values.tolist()\n",
    "\n",
    "# plotting values of fare vs dead\n",
    "fare_dead = titanic_df[titanic_df['Survived'] == 0]['Fare'].values.tolist()\n",
    "\n",
    "# creating an fare array\n",
    "fare_data = [fare_survived, fare_dead]\n",
    "\n",
    "# creating the figure\n",
    "fig = plt.figure(figsize=(10, 7))\n",
    "\n",
    "# creating the axes instances\n",
    "ax = fig.add_axes([0.1, 0.1, 0.8, 0.8])\n",
    "\n",
    "# creating the box plot\n",
    "box_plot = ax.boxplot(fare_data)\n",
    "\n",
    "# setting the labels for the box plot\n",
    "ax.set_xticklabels(['Survived', 'Dead'])\n",
    "\n",
    "# displaying the plot\n",
    "plt.xlabel(\"Survived\")\n",
    "plt.ylabel(\"Fare\")\n",
    "plt.show()\n"
   ]
  },
  {
   "cell_type": "markdown",
   "metadata": {},
   "source": [
    "### <font color = '#FF8C00'> `Sex` vs `Survived` </font>\n",
    "For this situation, we know that `Sex` is a nominal categorical data type, and `Survived` is a nominal binary categorical data type. We can convert the number of sexes into two divisions, male and female, and then count the numbers from each respective sex that have died or survived. For this, we can use a bar chart."
   ]
  },
  {
   "cell_type": "code",
   "execution_count": 52,
   "metadata": {},
   "outputs": [
    {
     "name": "stdout",
     "output_type": "stream",
     "text": [
      "The Numbers Add Up\n"
     ]
    },
    {
     "data": {
      "image/png": "[encoded data removed]",
      "text/plain": [
       "<Figure size 640x480 with 1 Axes>"
      ]
     },
     "metadata": {},
     "output_type": "display_data"
    }
   ],
   "source": [
    "# collecting the values of the sex that survived from the data frame\n",
    "fare_survived = titanic_df[titanic_df['Survived'] == 1]['Sex'].values.tolist()\n",
    "\n",
    "# collecting the values of the sex that died from the data frame\n",
    "fare_dead = titanic_df[titanic_df['Survived'] == 0]['Sex'].values.tolist()\n",
    "\n",
    "# setting up the counters\n",
    "survived_male = 0\n",
    "dead_male = 0\n",
    "survived_female = 0\n",
    "dead_female = 0\n",
    "\n",
    "# looping through the lists to update the counters\n",
    "for n in fare_survived:\n",
    "    if n == \"male\":\n",
    "        survived_male += 1\n",
    "    if n == \"female\":\n",
    "        survived_female += 1\n",
    "\n",
    "for n in fare_dead:\n",
    "    if n == \"male\":\n",
    "        dead_male += 1\n",
    "    if n == \"female\":\n",
    "        dead_female += 1\n",
    "\n",
    "# checking if the numbers add up\n",
    "total_female = survived_female + dead_female\n",
    "total_male = survived_male + dead_male\n",
    "\n",
    "if (total_female + total_male == len(fare_survived) + len(fare_dead)):\n",
    "    print(\"The Numbers Add Up\")\n",
    "\n",
    "# setting up a list of labels and numbers\n",
    "sex_survived = [\"Survived (M)\", \"Survived (F)\", \"Dead (M)\", \"Dead (F)\"]\n",
    "sex_numbers = [survived_male, survived_female, dead_male, dead_female]\n",
    "\n",
    "# creating a bar chart\n",
    "bars = plt.bar(sex_survived, sex_numbers)\n",
    "\n",
    "# setting the color of the female bars to red\n",
    "bars[1].set_color('red')\n",
    "bars[3].set_color('red')\n",
    "\n",
    "# creating the bar chart and adding in the labels\n",
    "plt.title(\"Male vs Female Survival Numbers\")\n",
    "plt.xlabel(\"Survived (Sex)\")\n",
    "plt.ylabel(\"Frequency\")\n",
    "plt.show()\n"
   ]
  },
  {
   "cell_type": "markdown",
   "metadata": {},
   "source": [
    "### <font color = '#FF8C00'> `SibSp` vs `Survived` </font>\n",
    "Here, we know that `SibSp` is discrete numerical data type and `Survived` is a nominal binary categorical data type. In this situation, since we are dealing with plotting a numerical data type against a categorical data type, we can use a box plot to best represent this."
   ]
  },
  {
   "cell_type": "code",
   "execution_count": 50,
   "metadata": {},
   "outputs": [
    {
     "data": {
      "image/png": "[encoded data removed]",
      "text/plain": [
       "<Figure size 1000x700 with 1 Axes>"
      ]
     },
     "metadata": {},
     "output_type": "display_data"
    }
   ],
   "source": [
    "# collecting values of fare vs survived\n",
    "sibsp_survived = titanic_df[titanic_df['Survived'] == 1]['SibSp'].values.tolist()\n",
    "\n",
    "# plotting values of fare vs dead\n",
    "sibsp_dead = titanic_df[titanic_df['Survived'] == 0]['SibSp'].values.tolist()\n",
    "\n",
    "# creating an fare array\n",
    "sibsp_data = [sibsp_survived, sibsp_dead]\n",
    "\n",
    "# creating the figure\n",
    "fig = plt.figure(figsize=(10, 7))\n",
    "\n",
    "# creating the axes instances\n",
    "ax = fig.add_axes([0.1, 0.1, 0.8, 0.8])\n",
    "\n",
    "# creating the box plot\n",
    "box_plot = ax.boxplot(sibsp_data)\n",
    "\n",
    "# setting the labels for the box plot\n",
    "ax.set_xticklabels(['Survived', 'Dead'])\n",
    "\n",
    "# displaying the plot\n",
    "plt.xlabel(\"Survived\")\n",
    "plt.ylabel(\"Sibling / Spouse\")\n",
    "plt.show()\n"
   ]
  },
  {
   "cell_type": "markdown",
   "metadata": {},
   "source": [
    "### <font color = '#FF8C00'> `Parch` vs `Survived` </font>\n",
    "For this situation, we can use `Parch` which is a discrete numerical data type and `Survived` which is a nominal binary categorical data type. For this situation, as we are plotting a numerical data type against a categorical data type, the best way to plot this is using a box plot."
   ]
  },
  {
   "cell_type": "code",
   "execution_count": 51,
   "metadata": {},
   "outputs": [
    {
     "data": {
      "image/png": "[encoded data removed]",
      "text/plain": [
       "<Figure size 1000x700 with 1 Axes>"
      ]
     },
     "metadata": {},
     "output_type": "display_data"
    }
   ],
   "source": [
    "# collecting values of parch vs survived\n",
    "parch_survived = titanic_df[titanic_df['Survived'] == 1]['Parch'].values.tolist()\n",
    "\n",
    "# plotting values of parch vs dead\n",
    "parch_dead = titanic_df[titanic_df['Survived'] == 0]['Parch'].values.tolist()\n",
    "\n",
    "# creating an parch array\n",
    "parch_data = [parch_survived, parch_dead]\n",
    "\n",
    "# creating the figure\n",
    "fig = plt.figure(figsize=(10, 7))\n",
    "\n",
    "# creating the axes instances\n",
    "ax = fig.add_axes([0.1, 0.1, 0.8, 0.8])\n",
    "\n",
    "# creating the box plot\n",
    "box_plot = ax.boxplot(parch_data)\n",
    "\n",
    "# setting the labels for the box plot\n",
    "ax.set_xticklabels(['Survived', 'Dead'])\n",
    "\n",
    "# displaying the plot\n",
    "plt.xlabel(\"Survived\")\n",
    "plt.ylabel(\"Parent / Children\")\n",
    "plt.show()"
   ]
  },
  {
   "cell_type": "markdown",
   "metadata": {},
   "source": [
    "### <font color = '#FF8C00'> `Embarked` vs `Survived` </font>\n",
    "Lastly, we now plot `Embarked` against `Survived`. We know that `Embarked` is a categorical nominal data type and `Survived` is a nominal binary categorical data type. For this situation, it would be best to use a heatmap since we're plotting a categorical variable against another categorical variable."
   ]
  },
  {
   "cell_type": "code",
   "execution_count": null,
   "metadata": {},
   "outputs": [],
   "source": []
  },
  {
   "cell_type": "markdown",
   "metadata": {},
   "source": [
    "### <font color='#FF8C00'> Sources Used For Section Two </font>\n",
    "- https://www.geeksforgeeks.org/how-to-convert-pandas-column-to-list/\n",
    "- https://www.w3schools.com/python/python_lists_loop.asp\n",
    "- https://stackoverflow.com/questions/13694034/\\is-a-python-list-guaranteed-to-have-its-elements-stay-in-the-order-they-are-inse\n",
    "- https://www.tutorialspoint.com/how-to-create-a-pivot-table-in-python-using-pandas\n",
    "- https://saturncloud.io/blog/how-to-plot-a-heatmap-from-pandas-dataframe/\n",
    "- https://www.geeksforgeeks.org/box-plot-in-python-using-matplotlib/"
   ]
  }
 ],
 "metadata": {
  "kernelspec": {
   "display_name": "dataScienceEnv",
   "language": "python",
   "name": "python3"
  },
  "language_info": {
   "codemirror_mode": {
    "name": "ipython",
    "version": 3
   },
   "file_extension": ".py",
   "mimetype": "text/x-python",
   "name": "python",
   "nbconvert_exporter": "python",
   "pygments_lexer": "ipython3",
   "version": "3.13.1"
  }
 },
 "nbformat": 4,
 "nbformat_minor": 2
}
