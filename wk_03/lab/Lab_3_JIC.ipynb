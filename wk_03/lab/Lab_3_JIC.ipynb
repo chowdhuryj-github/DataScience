{
 "cells": [
  {
   "cell_type": "markdown",
   "metadata": {},
   "source": [
    "# <font color='#d35400'> Lab 3 | Data Visualization </font>\n",
    "Welcome to Lab 3! This lab is about the Titanic dataset. For this lab, we use exploratory data analysis with a focus on using different visualization techniques. \n",
    "\n",
    "<p align=\"center\">\n",
    "  <img src=\"dog_painting.jpg\" alt=\"Alt Text\" />\n",
    "</p>"
   ]
  },
  {
   "cell_type": "markdown",
   "metadata": {},
   "source": [
    "### <font color='#FF8C00'> About the Dataset </font>\n",
    "The dataset contains demographic information about passengers who were on board the Titanic as well as whether they survived or not. We focus on loading the data, building an understanding of the dataset, and cleaning the data for later use."
   ]
  },
  {
   "cell_type": "markdown",
   "metadata": {},
   "source": [
    "## <font color = '#FF8C00'> Section 1 </font> | Reading in the Data\n",
    "In Section 1, we start off with using pandas to read our provided titanic dataset. This dataset is a updated version where missing values in the Age column are filled using mean, median, mode and KNN.\n"
   ]
  },
  {
   "cell_type": "code",
   "execution_count": null,
   "metadata": {},
   "outputs": [],
   "source": [
    "# importing the pandas library\n",
    "import pandas as pd\n",
    "\n",
    "# using the pandas library to read a csv file\n",
    "titanic_df = pd.read_csv(\"titanic_filled.csv\")\n",
    "\n",
    "# viewing the titanic data frame using .head()\n",
    "titanic_df.head(3)"
   ]
  },
  {
   "cell_type": "markdown",
   "metadata": {},
   "source": [
    "Next, we need to type the data appropriately. We do this converting the following variables, `Pclass`, `Sex` and `Embarked` using the `.astype()` method into a categorical variable."
   ]
  },
  {
   "cell_type": "code",
   "execution_count": null,
   "metadata": {},
   "outputs": [],
   "source": [
    "# converting the Pclass variable into a categorical variable\n",
    "titanic_df[\"Pclass\"] = titanic_df[\"Pclass\"].astype('category')\n",
    "\n",
    "# converting the Sex variable into a categorical variable\n",
    "titanic_df[\"Sex\"] = titanic_df[\"Sex\"].astype('category')\n",
    "\n",
    "# converting the Embarked variable into a categorical variable\n",
    "titanic_df[\"Embarked\"] = titanic_df[\"Embarked\"].astype('category')"
   ]
  },
  {
   "cell_type": "markdown",
   "metadata": {},
   "source": [
    "## <font color = '#FF8C00'> Section 2 </font> | Classification\n",
    "In this section, we work with the Titanic datset and the `Survived` feature as the target for a supervised machine learning problem. We work on creating a heatmap and determine appropriate visualizations to compare other variables such as `Fare`, `Sex`, `SibSp`, `Parch` and `Embarked` with `Survived`. Lastly, we create visualizations to compare `Age` and its imputed versions with `Survived`.\n"
   ]
  },
  {
   "cell_type": "markdown",
   "metadata": {},
   "source": [
    "### <font color = '#FF8C00'> Creating a HeatMap </font>\n",
    "We start off by retireiving all the data of the passengers using their respective `Pclass` and also the `Survived` data. We divide the data into two sections of passengers who have survived (1) and passengers who didn't (0) and then divided those two categories into three sub-categories of `Pclass` 1, 2 and 3.\n"
   ]
  },
  {
   "cell_type": "code",
   "execution_count": null,
   "metadata": {},
   "outputs": [],
   "source": [
    "# finding the total number of passengers that have a Pclass\n",
    "passenger_list = titanic_df[\"Pclass\"].values.tolist()\n",
    "\n",
    "# printing out the total number of passengers\n",
    "print(\"Passenger Numbers: \", len(passenger_list))"
   ]
  },
  {
   "cell_type": "code",
   "execution_count": null,
   "metadata": {},
   "outputs": [],
   "source": [
    "\n",
    "# retrieving all the Pclass values that survived into a list from the data frame\n",
    "class_list_survived = titanic_df[titanic_df['Survived'] == 1]['Pclass'].values.tolist()\n",
    "print(\"All Classes: \", class_list_survived)\n",
    "\n",
    "# total number of classes\n",
    "print(\"Total Number of Classes: \", len(class_list_survived))\n",
    "\n",
    "# setting up the class counter\n",
    "class_one_survived = 0\n",
    "class_two_survived = 0\n",
    "class_three_survived = 0\n",
    "\n",
    "# calculating the number of occurrences each class\n",
    "for n in class_list_survived:\n",
    "    if n == 1:\n",
    "        class_one_survived += 1\n",
    "    if n == 2:\n",
    "        class_two_survived += 1\n",
    "    if n == 3:\n",
    "        class_three_survived += 1\n",
    "\n",
    "# printing out the occurrences of each class\n",
    "print(\"Class One:\", class_one_survived)\n",
    "print(\"Class Two:\", class_two_survived)\n",
    "print(\"Class Three:\", class_three_survived)\n",
    "\n",
    "# doing a check on the numbers\n",
    "if(class_one_survived + class_two_survived + class_three_survived == len(class_list_survived)):\n",
    "    print(\"The totals of Class One, Two and Three are all equal to Overall Number\")\n"
   ]
  },
  {
   "cell_type": "code",
   "execution_count": null,
   "metadata": {},
   "outputs": [],
   "source": [
    "# retrieving all the Pclass values that died into a list from the data frame\n",
    "class_list_died = titanic_df[titanic_df['Survived'] == 0]['Pclass'].values.tolist()\n",
    "print(\"All Classes: \", class_list_died)\n",
    "\n",
    "# total number of classes\n",
    "print(\"Total Number of Classes: \", len(class_list_died))\n",
    "\n",
    "# setting up the class counter\n",
    "class_one_died = 0\n",
    "class_two_died = 0\n",
    "class_three_died = 0\n",
    "\n",
    "# calculating the number of occurrences each class\n",
    "for n in class_list_died:\n",
    "    if n == 1:\n",
    "        class_one_died += 1\n",
    "    if n == 2:\n",
    "        class_two_died += 1\n",
    "    if n == 3:\n",
    "        class_three_died += 1\n",
    "\n",
    "# printing out the occurrences of each class\n",
    "print(\"Class One:\", class_one_died)\n",
    "print(\"Class Two:\", class_two_died)\n",
    "print(\"Class Three:\", class_three_died)\n",
    "\n",
    "# doing a check on the numbers\n",
    "if(class_one_died + class_two_died + class_three_died == len(class_list_died)):\n",
    "    print(\"The totals of Class One, Two and Three are all equal to Overall Number\")\n",
    "\n"
   ]
  },
  {
   "cell_type": "code",
   "execution_count": null,
   "metadata": {},
   "outputs": [],
   "source": [
    "# doing a check to see if the numbers add up\n",
    "if(len(class_list_survived) + len(class_list_died) == len(passenger_list)):\n",
    "    print(\"The Survived and Died Numbers are equal to the numbers of Passengers\")"
   ]
  },
  {
   "cell_type": "markdown",
   "metadata": {},
   "source": [
    "Cool! Now that we've managed to get the numbers on the numbers of passengers with respect to the `Pclass` and `Survived` variables, we can now start calculating our ratios. After we find our ratios, we then create a pivot table using `.pivot_table()`"
   ]
  },
  {
   "cell_type": "code",
   "execution_count": null,
   "metadata": {},
   "outputs": [],
   "source": [
    "# calculating the ratios of the survivors with respect to the Pclass\n",
    "class_one_ratio_survived = class_one_survived / (class_one_died + class_one_survived)\n",
    "class_two_ratio_survived = class_two_survived / (class_two_died + class_two_survived)\n",
    "class_three_ratio_survived = class_three_survived / (class_three_died + class_three_survived)\n",
    "\n",
    "# printing out the results\n",
    "print(\"Class One Survived: \", class_one_ratio_survived, \"\\n\", \"Class Two Survived: \", class_two_ratio_survived, \"\\n\",\n",
    "      \"Class three Survived: \", class_three_ratio_survived, \"\\n\")\n",
    "\n",
    "# # performing a probability check\n",
    "# if(class_one_ratio_survived + class_two_ratio_survived + class_three_ratio_survived == 1):\n",
    "#     print(\"The  Survived Ratios add up to 1! \\n\")\n",
    "\n",
    "\n",
    "# calculating the ratios of the dead with respect to the Pclass\n",
    "class_one_ratio_dead = class_one_died / (class_one_survived + class_one_died)\n",
    "class_two_ratio_dead = class_two_died / (class_two_survived + class_two_died)\n",
    "class_three_ratio_dead = class_three_died / (class_three_survived + class_three_died)\n",
    "\n",
    "# printing out the results\n",
    "print(\"Class One Dead: \", class_one_ratio_dead, \"\\n\", \"Class Two Dead: \", class_two_ratio_dead, \"\\n\",\n",
    "      \"Class three Dead: \", class_three_ratio_dead, \"\\n\")\n",
    "\n",
    "# # performing a probability check\n",
    "# if(class_one_ratio_dead + class_two_ratio_dead + class_three_ratio_dead == 1):\n",
    "#     print(\"The Dead Ratios add up to 1!\")\n"
   ]
  },
  {
   "cell_type": "code",
   "execution_count": null,
   "metadata": {},
   "outputs": [],
   "source": [
    "# creating a dictionary for the heat map table\n",
    "heatmap_data = {\n",
    "    'Survived' : [1, 2, 3],\n",
    "    '0': [class_one_ratio_dead, class_two_ratio_dead, class_three_ratio_dead],\n",
    "    '1': [class_one_ratio_survived, class_two_ratio_survived, class_three_ratio_survived]\n",
    "\n",
    "}\n",
    "\n",
    "# creating a data frame\n",
    "heatmap_df = pd.DataFrame(heatmap_data)\n",
    "\n",
    "# creating a pivot table\n",
    "heatmap_pivot = heatmap_df.set_index('Survived').T\n",
    "\n",
    "# printing out the pivot table\n",
    "print(heatmap_pivot)"
   ]
  },
  {
   "cell_type": "markdown",
   "metadata": {},
   "source": [
    "Great! Now that we've created the pivot table, we now easily convert this into a heatmap using the Seaborn library. To achieve this, we use `.heatmap()` from Seaborn with the pivot table as a parameter."
   ]
  },
  {
   "cell_type": "code",
   "execution_count": null,
   "metadata": {},
   "outputs": [],
   "source": [
    "# importing the Seaborn library\n",
    "import seaborn as sns\n",
    "\n",
    "# importing the matplotlib library\n",
    "import matplotlib.pyplot as plt\n",
    "\n",
    "# creating the heatmap\n",
    "sns.heatmap(heatmap_pivot, cmap=\"YlGnBu\", annot=True)\n",
    "\n",
    "# including plotting details\n",
    "plt.title(\"Heat Map of Passenger Class vs Survived\")\n",
    "plt.xlabel(\"Passenger Class\")\n",
    "plt.ylabel(\"Survived [0: No, 1: Yes]\")\n",
    "\n",
    "# saving the plot\n",
    "plt.savefig(r\"C:\\GitHub\\DataScience\\wk_03\\plots\\PClassVsSurvivedHeatMap.png\")\n",
    "\n",
    "# displaying the heatmap\n",
    "plt.show()"
   ]
  },
  {
   "cell_type": "markdown",
   "metadata": {},
   "source": [
    "### <font color = '#FF8C00'> Data Visualizations </font>\n",
    "Next, we move on performing data visualizations. We compare the following variables, `Fare`, `Sex`, `SibSp`, `Parch` & `Embarked` against the `Survived` variable. \n",
    "\n",
    "Here are the following plotting types that will be used:\n",
    "- For plotting `Fare` vs `Survived`, we can use box plot\n",
    "- For plotting `Sex` vs `Survived`, we can use a heat map\n",
    "- For plotting `SibSp` vs `Survived`, we can use a box plot\n",
    "- For plotting `Parch` vs `Survived`, we can use a box plot\n",
    "- For plotting `Embarked` vs `Survived`, we can use a heatmap\n",
    "\n",
    "### <font color = '#FF8C00'> `Fare` vs `Survived` </font>\n",
    "As we know, `Fare` is a ratio numerical data type and `Survived` is a nominal binary categorical data type. When we plot a categorical vs numerical data type plot, we can use box plots for this representation."
   ]
  },
  {
   "cell_type": "code",
   "execution_count": null,
   "metadata": {},
   "outputs": [],
   "source": [
    "# collecting values of fare vs survived\n",
    "fare_survived = titanic_df[titanic_df['Survived'] == 1]['Fare'].values.tolist()\n",
    "\n",
    "# collecting values of fare vs dead\n",
    "fare_dead = titanic_df[titanic_df['Survived'] == 0]['Fare'].values.tolist()\n",
    "\n",
    "# creating an fare array\n",
    "fare_data = [fare_survived, fare_dead]\n",
    "\n",
    "# creating the figure\n",
    "fig = plt.figure(figsize=(10, 7))\n",
    "\n",
    "# creating the axes instances\n",
    "ax = fig.add_axes([0.1, 0.1, 0.8, 0.8])\n",
    "\n",
    "# creating the box plot\n",
    "box_plot = ax.boxplot(fare_data)\n",
    "\n",
    "# setting the labels for the box plot\n",
    "ax.set_xticklabels(['Survived', 'Dead'])\n",
    "\n",
    "# displaying the plot\n",
    "plt.title(\"Boxplot of Fare vs Survived\")\n",
    "plt.xlabel(\"Survived\")\n",
    "plt.ylabel(\"Fare\")\n",
    "\n",
    "# saving the plot\n",
    "plt.savefig(r\"C:\\GitHub\\DataScience\\wk_03\\plots\\BoxPlotFareSurvived.png\")\n",
    "\n",
    "# displating the plot\n",
    "plt.show()\n"
   ]
  },
  {
   "cell_type": "markdown",
   "metadata": {},
   "source": [
    "### <font color = '#FF8C00'> `Sex` vs `Survived` </font>\n",
    "For this situation, we know that `Sex` is a nominal categorical data type, and `Survived` is a nominal binary categorical data type. We can convert the number of sexes into two divisions, male and female, and then count the numbers from each respective sex that have died or survived. For this, we can use a bar chart."
   ]
  },
  {
   "cell_type": "code",
   "execution_count": null,
   "metadata": {},
   "outputs": [],
   "source": [
    "# collecting the values of the sex that survived from the data frame\n",
    "fare_survived = titanic_df[titanic_df['Survived'] == 1]['Sex'].values.tolist()\n",
    "\n",
    "# collecting the values of the sex that died from the data frame\n",
    "fare_dead = titanic_df[titanic_df['Survived'] == 0]['Sex'].values.tolist()\n",
    "\n",
    "# setting up the counters\n",
    "survived_male = 0\n",
    "dead_male = 0\n",
    "survived_female = 0\n",
    "dead_female = 0\n",
    "\n",
    "# looping through the lists to update the counters\n",
    "for n in fare_survived:\n",
    "    if n == \"male\":\n",
    "        survived_male += 1\n",
    "    if n == \"female\":\n",
    "        survived_female += 1\n",
    "\n",
    "for n in fare_dead:\n",
    "    if n == \"male\":\n",
    "        dead_male += 1\n",
    "    if n == \"female\":\n",
    "        dead_female += 1\n",
    "\n",
    "# checking if the numbers add up\n",
    "total_female = survived_female + dead_female\n",
    "total_male = survived_male + dead_male\n",
    "\n",
    "if (total_female + total_male == len(fare_survived) + len(fare_dead)):\n",
    "    print(\"The Numbers Add Up\")\n",
    "\n",
    "# calculating the ratio of sexes with respect to Survived\n",
    "male_survived_ratio = survived_male / total_male\n",
    "male_dead_ratio = dead_male / total_male\n",
    "female_survived_ratio = survived_female / total_female\n",
    "female_dead_ratio = dead_female / total_female\n",
    "\n",
    "# printing out the results\n",
    "print(\"Ratio of Male Alive: \", male_survived_ratio, \"\\n\", \"Ratio of Male Dead: \", male_dead_ratio, \"\\n\",\n",
    "      \"Ratio of Female Alive: \", female_survived_ratio, \"\\n\", \"Ratio of Female Dead: \", female_dead_ratio)\n",
    "\n"
   ]
  },
  {
   "cell_type": "code",
   "execution_count": null,
   "metadata": {},
   "outputs": [],
   "source": [
    "# creating a dictionary for the heat map table\n",
    "sex_survived_heatmap = {\n",
    "    'Survived' : [0,1],\n",
    "    'Male' : [male_dead_ratio, male_survived_ratio],\n",
    "    'Female': [female_dead_ratio, female_survived_ratio]\n",
    "}\n",
    "\n",
    "# creating a data frame\n",
    "sex_survived_df = pd.DataFrame(sex_survived_heatmap)\n",
    "\n",
    "# creating a pivot table\n",
    "sex_survived_pivot = sex_survived_df.set_index('Survived').T\n",
    "\n",
    "# printing out the pivot table\n",
    "print(sex_survived_pivot)"
   ]
  },
  {
   "cell_type": "code",
   "execution_count": null,
   "metadata": {},
   "outputs": [],
   "source": [
    "# creating the heatmap\n",
    "sns.heatmap(sex_survived_pivot, cmap=\"YlGnBu\", annot=True)\n",
    "\n",
    "# including plotting details\n",
    "plt.title(\"Sex & Survived Heat Map\")\n",
    "plt.xlabel(\"Survived [0: No, 1: Yes]\")\n",
    "plt.ylabel(\"Sex\")\n",
    "\n",
    "# saving the plot\n",
    "plt.savefig(r\"C:\\GitHub\\DataScience\\wk_03\\plots\\HeatMapSexSurvived.png\")\n",
    "\n",
    "# displaying the heatmap\n",
    "plt.show()"
   ]
  },
  {
   "cell_type": "markdown",
   "metadata": {},
   "source": [
    "### <font color = '#FF8C00'> `SibSp` vs `Survived` </font>\n",
    "Here, we know that `SibSp` is discrete numerical data type and `Survived` is a nominal binary categorical data type. In this situation, since we are dealing with plotting a numerical data type against a categorical data type, we can use a box plot to best represent this."
   ]
  },
  {
   "cell_type": "code",
   "execution_count": null,
   "metadata": {},
   "outputs": [],
   "source": [
    "# collecting values of fare vs survived\n",
    "sibsp_survived = titanic_df[titanic_df['Survived'] == 1]['SibSp'].values.tolist()\n",
    "\n",
    "# plotting values of fare vs dead\n",
    "sibsp_dead = titanic_df[titanic_df['Survived'] == 0]['SibSp'].values.tolist()\n",
    "\n",
    "# creating an fare array\n",
    "sibsp_data = [sibsp_survived, sibsp_dead]\n",
    "\n",
    "# creating the figure\n",
    "fig = plt.figure(figsize=(10, 7))\n",
    "\n",
    "# creating the axes instances\n",
    "ax = fig.add_axes([0.1, 0.1, 0.8, 0.8])\n",
    "\n",
    "# creating the box plot\n",
    "box_plot = ax.boxplot(sibsp_data)\n",
    "\n",
    "# setting the labels for the box plot\n",
    "ax.set_xticklabels(['Survived', 'Dead'])\n",
    "\n",
    "# displaying the plot\n",
    "plt.title(\"Box Plot of Sibling / Spouse vs Survived\")\n",
    "plt.xlabel(\"Survived\")\n",
    "plt.ylabel(\"Sibling / Spouse\")\n",
    "\n",
    "# saving the plot\n",
    "plt.savefig(r\"C:\\GitHub\\DataScience\\wk_03\\plots\\BoxPlotSibSpSurvived.png\")\n",
    "\n",
    "# displaying the plot\n",
    "plt.show()\n"
   ]
  },
  {
   "cell_type": "markdown",
   "metadata": {},
   "source": [
    "### <font color = '#FF8C00'> `Parch` vs `Survived` </font>\n",
    "For this situation, we can use `Parch` which is a discrete numerical data type and `Survived` which is a nominal binary categorical data type. For this situation, as we are plotting a numerical data type against a categorical data type, the best way to plot this is using a box plot."
   ]
  },
  {
   "cell_type": "code",
   "execution_count": null,
   "metadata": {},
   "outputs": [],
   "source": [
    "# collecting values of parch vs survived\n",
    "parch_survived = titanic_df[titanic_df['Survived'] == 1]['Parch'].values.tolist()\n",
    "\n",
    "# plotting values of parch vs dead\n",
    "parch_dead = titanic_df[titanic_df['Survived'] == 0]['Parch'].values.tolist()\n",
    "\n",
    "# creating an parch array\n",
    "parch_data = [parch_survived, parch_dead]\n",
    "\n",
    "# creating the figure\n",
    "fig = plt.figure(figsize=(10, 7))\n",
    "\n",
    "# creating the axes instances\n",
    "ax = fig.add_axes([0.1, 0.1, 0.8, 0.8])\n",
    "\n",
    "# creating the box plot\n",
    "box_plot = ax.boxplot(parch_data)\n",
    "\n",
    "# setting the labels for the box plot\n",
    "ax.set_xticklabels(['Survived', 'Dead'])\n",
    "\n",
    "# displaying the plot\n",
    "plt.title(\"Box Plot of Parent / Children vs Survived\")\n",
    "plt.xlabel(\"Survived\")\n",
    "plt.ylabel(\"Parent / Children\")\n",
    "\n",
    "# saving the plot\n",
    "plt.savefig(r\"C:\\GitHub\\DataScience\\wk_03\\plots\\BoxPlotParchSurvived.png\")\n",
    "\n",
    "# displaying the plot\n",
    "plt.show()"
   ]
  },
  {
   "cell_type": "markdown",
   "metadata": {},
   "source": [
    "### <font color = '#FF8C00'> `Embarked` vs `Survived` </font>\n",
    "Lastly, we now plot `Embarked` against `Survived`. We know that `Embarked` is a categorical nominal data type and `Survived` is a nominal binary categorical data type. For this situation, it would be best to use a heatmap since we're plotting a categorical variable against another categorical variable."
   ]
  },
  {
   "cell_type": "code",
   "execution_count": null,
   "metadata": {},
   "outputs": [],
   "source": [
    "# retrieving all the embarked values that survived into a list from the data frame\n",
    "embarked_list_survived = titanic_df[titanic_df['Survived'] ==  1]['Embarked'].values.tolist()\n",
    "\n",
    "# retrieving all the embarked values that died into a list from the data frame\n",
    "embarked_list_dead = titanic_df[titanic_df['Survived'] == 0]['Embarked'].values.tolist()\n",
    "\n",
    "# setting up counter variables\n",
    "embarked_C_survived = 0\n",
    "embarked_C_dead = 0\n",
    "embarked_Q_survived = 0\n",
    "embarked_Q_dead = 0\n",
    "embarked_S_survived = 0\n",
    "embarked_S_dead = 0\n",
    "\n",
    "# updating the counter values for survived\n",
    "for n in embarked_list_survived:\n",
    "    if n == \"C\":\n",
    "        embarked_C_survived += 1\n",
    "    if n == \"Q\":\n",
    "        embarked_Q_survived += 1\n",
    "    if n == \"S\":\n",
    "        embarked_S_survived += 1\n",
    "\n",
    "# updating the counter values for dead\n",
    "for n in embarked_list_dead:\n",
    "    if n == \"C\":\n",
    "        embarked_C_dead += 1\n",
    "    if n == \"Q\":\n",
    "        embarked_Q_dead += 1\n",
    "    if n == \"S\":\n",
    "        embarked_S_dead += 1\n",
    "\n",
    "# printing out the occurences of each class\n",
    "print(\"Embarked C Survived: \", embarked_C_survived)\n",
    "print(\"Embarked Q Survived: \", embarked_Q_survived)\n",
    "print(\"Embarked S Survived: \", embarked_S_survived)\n",
    "print(\"Embarked C Dead: \", embarked_C_dead)\n",
    "print(\"Embarked Q Dead: \", embarked_Q_dead)\n",
    "print(\"Embarked S Dead: \", embarked_S_dead)\n",
    "\n",
    "# finding the totals\n",
    "total_C = embarked_C_survived + embarked_C_dead\n",
    "total_Q = embarked_Q_survived + embarked_Q_dead\n",
    "total_S = embarked_S_survived + embarked_S_dead"
   ]
  },
  {
   "cell_type": "code",
   "execution_count": null,
   "metadata": {},
   "outputs": [],
   "source": [
    "# calculating the ratios between the embarked and survival variables\n",
    "embarked_C_survived_ratio = embarked_C_survived / total_C\n",
    "embarked_C_dead_ratio = embarked_C_dead / total_C\n",
    "\n",
    "embarked_Q_survived_ratio = embarked_Q_survived / total_Q\n",
    "embarked_Q_dead_ratio =  embarked_Q_dead / total_Q\n",
    "\n",
    "embarked_S_survived_ratio = embarked_S_survived / total_S\n",
    "embarked_S_dead_ratio = embarked_S_dead / total_S\n",
    "\n",
    "# printing out the ratios\n",
    "print(\"C Survived: \", embarked_C_survived_ratio, \"\\n\", \"Q Survived: \", embarked_Q_survived_ratio, \"\\n\",\n",
    "      \"S Survived: \", embarked_S_survived_ratio, \"\\n\", \"C Dead: \", embarked_C_dead_ratio, \"\\n\",\n",
    "      \"Q Dead: \", embarked_Q_dead_ratio, \"\\n\", \"S Dead: \", embarked_S_dead_ratio)"
   ]
  },
  {
   "cell_type": "code",
   "execution_count": null,
   "metadata": {},
   "outputs": [],
   "source": [
    "# creating a dictionary for the heat map table\n",
    "embarked_survived_data = {\n",
    "    'Survived': [0, 1],  # Survival status\n",
    "    'Cherbourg': [embarked_C_dead_ratio, embarked_C_survived_ratio],  \n",
    "    'Queenstown': [embarked_Q_dead_ratio, embarked_Q_survived_ratio],  \n",
    "    'Southampton': [embarked_S_dead_ratio, embarked_S_survived_ratio] \n",
    "}\n",
    "\n",
    "# creating a data frame\n",
    "embarked_survived_df = pd.DataFrame(embarked_survived_data)\n",
    "\n",
    "# creating a pivot table\n",
    "embarked_pivot = embarked_survived_df.set_index(\"Survived\").T\n",
    "\n",
    "# printing out the pivot table\n",
    "print(embarked_pivot)"
   ]
  },
  {
   "cell_type": "code",
   "execution_count": null,
   "metadata": {},
   "outputs": [],
   "source": [
    "# creating the heatmap\n",
    "sns.heatmap(embarked_pivot, cmap=\"YlGnBu\", annot=True)\n",
    "\n",
    "# including plotting details\n",
    "plt.title(\"Embarked & Survived Heat Map\")\n",
    "plt.xlabel(\"Survived [0: No, 1: Yes]\")\n",
    "plt.ylabel(\"Embarked\")\n",
    "\n",
    "# saving the plot\n",
    "plt.savefig(r\"C:\\GitHub\\DataScience\\wk_03\\plots\\HeatMapEmbarkedSurvived.png\")\n",
    "\n",
    "# displaying the heatmap\n",
    "plt.show()"
   ]
  },
  {
   "cell_type": "markdown",
   "metadata": {},
   "source": [
    "### <font color = '#FF8C00'> Age vs Survived </font>\n",
    "Lastly, we need to detemine the best visualization to compare `Age` with `Survived`. For each of `Age_fill_mean`, `Age_fill_median`, `Age_fill_mode` and `Age_fill_KNN`, we create a visualization to compare this to `Survived`.\n",
    "\n",
    "Given that we have described `Age` as a continuous numerical variable, when we compare it with `Survived`, we can use a violin plot, as we are using a numerical data type against a categorical data type. The same applies with `Age_fill_mean`, `Age_fill_median`, `Age_fill_mode` and `Age_fill_KNN`.\n"
   ]
  },
  {
   "cell_type": "code",
   "execution_count": null,
   "metadata": {},
   "outputs": [],
   "source": [
    "# extracting the age and age_fill_mean features\n",
    "age_survived_mean = titanic_df[['Survived', 'Age_fill_mean']]\n",
    "\n",
    "# creating the violin plot\n",
    "sns.violinplot(x=age_survived_mean['Survived'], y=age_survived_mean['Age_fill_mean'])\n",
    "\n",
    "# adding the plot details\n",
    "plt.title(\"Violin Plot for Survived vs Mean Age\")\n",
    "plt.xlabel(\"Survived [0: No, 1: Yes]\")\n",
    "plt.ylabel(\"Mean Age\")\n",
    "\n",
    "# saving the plot\n",
    "plt.savefig(r\"C:\\GitHub\\DataScience\\wk_03\\plots\\ViolionPlotSurvivedMean.png\")\n",
    "\n",
    "# displaying the plot\n",
    "plt.show()\n"
   ]
  },
  {
   "cell_type": "code",
   "execution_count": null,
   "metadata": {},
   "outputs": [],
   "source": [
    "# extracting the age and age_fill_mean features\n",
    "age_survived_median = titanic_df[['Survived', 'Age_fill_median']]\n",
    "\n",
    "# creating the violin plot\n",
    "sns.violinplot(x=age_survived_median['Survived'], y=age_survived_median['Age_fill_median'])\n",
    "\n",
    "# adding the plot details\n",
    "plt.title(\"Violin Plot for Survived vs Median Age\")\n",
    "plt.xlabel(\"Survived [0: No, 1: Yes]\")\n",
    "plt.ylabel(\"Median Age\")\n",
    "\n",
    "# saving the plot\n",
    "plt.savefig(r\"C:\\GitHub\\DataScience\\wk_03\\plots\\ViolionPlotSurvivedMedian.png\")\n",
    "\n",
    "\n",
    "# displaying the plot\n",
    "plt.show()"
   ]
  },
  {
   "cell_type": "code",
   "execution_count": null,
   "metadata": {},
   "outputs": [],
   "source": [
    "# extracting the age and age_fill_mean features\n",
    "age_survived_mode = titanic_df[['Survived', 'Age_fill_mode']]\n",
    "\n",
    "# creating the violin plot\n",
    "sns.violinplot(x=age_survived_mode['Survived'], y=age_survived_mode['Age_fill_mode'])\n",
    "\n",
    "# adding the plot details\n",
    "plt.title(\"Violin Plot for Survived vs Mode Age\")\n",
    "plt.xlabel(\"Survived [0: No, 1: Yes]\")\n",
    "plt.ylabel(\"Mode Age\")\n",
    "\n",
    "# saving the plot\n",
    "plt.savefig(r\"C:\\GitHub\\DataScience\\wk_03\\plots\\ViolionPlotSurvivedMode.png\")\n",
    "\n",
    "# displaying the plot\n",
    "plt.show()"
   ]
  },
  {
   "cell_type": "code",
   "execution_count": null,
   "metadata": {},
   "outputs": [],
   "source": [
    "# extracting the age and age_fill_mean features\n",
    "age_survived_knn = titanic_df[['Survived', 'Age_fill_KNN']]\n",
    "\n",
    "# creating the violin plot\n",
    "sns.violinplot(x=age_survived_knn['Survived'], y=age_survived_knn['Age_fill_KNN'])\n",
    "\n",
    "# adding the plot details\n",
    "plt.title(\"Violin Plot for Survived vs KNN Age\")\n",
    "plt.xlabel(\"Survived [0: No, 1: Yes]\")\n",
    "plt.ylabel(\"KNN Age\")\n",
    "\n",
    "# saving the plot\n",
    "plt.savefig(r\"C:\\GitHub\\DataScience\\wk_03\\plots\\ViolinPlotKNNSurvived.png\")\n",
    "\n",
    "# displaying the plot\n",
    "plt.show()"
   ]
  },
  {
   "cell_type": "markdown",
   "metadata": {},
   "source": [
    "### <font color='#FF8C00'> Sources Used For Section Two </font>\n",
    "- https://www.geeksforgeeks.org/how-to-convert-pandas-column-to-list/\n",
    "- https://www.w3schools.com/python/python_lists_loop.asp\n",
    "- https://stackoverflow.com/questions/13694034/\\is-a-python-list-guaranteed-to-have-its-elements-stay-in-the-order-they-are-inse\n",
    "- https://www.tutorialspoint.com/how-to-create-a-pivot-table-in-python-using-pandas\n",
    "- https://saturncloud.io/blog/how-to-plot-a-heatmap-from-pandas-dataframe/\n",
    "- https://www.geeksforgeeks.org/box-plot-in-python-using-matplotlib/\n",
    "- https://www.geeksforgeeks.org/violinplot-using-seaborn-in-python/"
   ]
  },
  {
   "cell_type": "markdown",
   "metadata": {},
   "source": [
    "## <font color = '#FF8C00'> Section 3 </font> | Comparing Features\n",
    "In this section, we will be comparing the `Age` and `Fare` variables. We compare these visually to see if they're correlated with each other. We do this using different visualization tehcniques shown below.\n"
   ]
  },
  {
   "cell_type": "markdown",
   "metadata": {},
   "source": [
    "### <font color = '#FF8C00'> Scatterplot & Jointplot </font>\n",
    "We start off by creating a scatter plot, where we plot `Age_fill_KNN` against `Fare`. We then move on to creating a joint plot as well. We achieve this using `.scatterplot` and `.jointplot` methods from Seaborn."
   ]
  },
  {
   "cell_type": "code",
   "execution_count": null,
   "metadata": {},
   "outputs": [],
   "source": [
    "# extrating the age_fill_KNN and fare from the titanic dataset\n",
    "age_fare_df = titanic_df[['Age_fill_KNN', 'Fare']]\n",
    "\n",
    "# plotting the scatter plot\n",
    "sns.scatterplot(x=\"Age_fill_KNN\", y=\"Fare\", data=age_fare_df, hue=\"Fare\", palette=\"viridis\")\n",
    "\n",
    "# setting up the plot details\n",
    "plt.title(\"Fare vs KNN Age\")\n",
    "plt.xlabel(\"Age (KNN)\")\n",
    "plt.ylabel(\"Fare\")\n",
    "\n",
    "# saving the plot\n",
    "plt.savefig(r\"C:\\GitHub\\DataScience\\wk_03\\plots\\FareAgeKNN.png\")\n",
    "\n",
    "# displaying the plot\n",
    "plt.show()"
   ]
  },
  {
   "cell_type": "code",
   "execution_count": null,
   "metadata": {},
   "outputs": [],
   "source": [
    "# creating the joint plot\n",
    "graph = sns.jointplot(x=\"Age_fill_KNN\", y=\"Fare\", data=age_fare_df, kind='kde')\n",
    "\n",
    "# setting up the title\n",
    "graph.fig.suptitle(\"KDE Joint Plot for Fare vs Age (KNN)\")\n",
    "graph.fig.subplots_adjust(top=0.9)\n",
    "\n",
    "# setting up the plot details\n",
    "plt.xlabel(\"Age (KNN)\")\n",
    "plt.ylabel(\"Fare\")\n",
    "\n",
    "# saving the plot\n",
    "plt.savefig(r\"C:\\GitHub\\DataScience\\wk_03\\plots\\KDE.png\")\n",
    "\n",
    "# displaying the plot\n",
    "plt.show()"
   ]
  },
  {
   "cell_type": "markdown",
   "metadata": {},
   "source": [
    "### <font color='#FF8C00'> Sources Used For Section Three </font>\n",
    "- https://www.geeksforgeeks.org/scatterplot-using-seaborn-in-python/\n",
    "- https://www.geeksforgeeks.org/python-seaborn-jointplot-method/"
   ]
  }
 ],
 "metadata": {
  "kernelspec": {
   "display_name": "dataScienceEnv",
   "language": "python",
   "name": "python3"
  },
  "language_info": {
   "codemirror_mode": {
    "name": "ipython",
    "version": 3
   },
   "file_extension": ".py",
   "mimetype": "text/x-python",
   "name": "python",
   "nbconvert_exporter": "python",
   "pygments_lexer": "ipython3",
   "version": "3.13.1"
  }
 },
 "nbformat": 4,
 "nbformat_minor": 4
}
