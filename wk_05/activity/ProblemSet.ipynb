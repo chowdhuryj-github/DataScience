{
 "cells": [
  {
   "cell_type": "markdown",
   "metadata": {},
   "source": [
    "# Problem 1\n",
    "A professor claims that students’ exam scores follow a normal distribution with a mean of 75 and a standard deviation of 10. However, an experimental teaching method is introduced, and a new class is tested. The observed sample mean is slightly lower than 75.\n",
    "- [x] Use the provided dataset of 30 exam scores from students under the new teaching method\n",
    "- [x] Compute the observed mean from the dataset\n",
    "- [ ] Generate a large number of samples (e.g., 10,000) from a normal distribution with μ = 75, σ =  10 to create the null distribution, sampling one instance at a time.\n",
    "- [ ] Store the mean of each sample to build the null distribution.\n",
    "- [ ] Convert the null distribution to a cumulative distribution function (CDF).\n",
    "- [ ] Compute the p-value as the probability of obtaining the observed mean or lower under the null distribution\n",
    "- [ ] Compare the p-value to α = 0.05 to determine whether the new method significantly lowers scores."
   ]
  },
  {
   "cell_type": "code",
   "execution_count": null,
   "metadata": {},
   "outputs": [
    {
     "name": "stdout",
     "output_type": "stream",
     "text": [
      "The Mean of Scores is:  72.43\n"
     ]
    }
   ],
   "source": [
    "# list of exam scores\n",
    "list_of_scores = [68, 72, 75, 70, 71, 73, 74, 76, 69, 72, 74, 70, 73, 71, 75, 74, 72, 73, 70, 71, 73, 75, 72, 74, \n",
    "76, 71, 73, 72, 70, 74]\n",
    "\n",
    "# computing the mean\n",
    "mean_of_scores = sum(list_of_scores) / len(list_of_scores)\n",
    "print(\"The Mean of Scores is: \", round(mean_of_scores, 2))"
   ]
  },
  {
   "cell_type": "code",
   "execution_count": null,
   "metadata": {},
   "outputs": [
    {
     "data": {
      "text/plain": [
       "np.float64(74.95035802902291)"
      ]
     },
     "execution_count": 1,
     "metadata": {},
     "output_type": "execute_result"
    }
   ],
   "source": [
    "# importing the stats library\n",
    "from scipy.stats import norm\n",
    "\n",
    "# importing the numpy library\n",
    "import numpy as np\n",
    "\n",
    "# defining the mean and standard deviation\n",
    "mean = 75\n",
    "standard_deviation = 10\n",
    "\n",
    "# instantiating a normal distribution\n",
    "normal_distribution = norm(loc=mean, scale=standard_deviation)\n",
    "\n",
    "# generating random uniform numbers\n",
    "random_values = np.random.rand(10000)\n",
    "\n",
    "# generating a large number of samples\n",
    "large_sample = normal_distribution.ppf(random_values)\n",
    "\n",
    "# finding the mean of the sample\n",
    "np.mean(large_sample)\n",
    "\n"
   ]
  },
  {
   "cell_type": "code",
   "execution_count": null,
   "metadata": {},
   "outputs": [],
   "source": [
    "for i in range(1000):\n",
    "    sample = normal_distribution"
   ]
  }
 ],
 "metadata": {
  "kernelspec": {
   "display_name": "dataScienceEnv",
   "language": "python",
   "name": "python3"
  },
  "language_info": {
   "codemirror_mode": {
    "name": "ipython",
    "version": 3
   },
   "file_extension": ".py",
   "mimetype": "text/x-python",
   "name": "python",
   "nbconvert_exporter": "python",
   "pygments_lexer": "ipython3",
   "version": "3.13.1"
  }
 },
 "nbformat": 4,
 "nbformat_minor": 2
}
